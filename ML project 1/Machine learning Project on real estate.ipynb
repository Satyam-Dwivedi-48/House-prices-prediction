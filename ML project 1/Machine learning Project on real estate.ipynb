{
 "cells": [
  {
   "cell_type": "code",
   "execution_count": 1,
   "metadata": {},
   "outputs": [],
   "source": [
    "import pandas as pd\n",
    "import numpy as np\n",
    "import matplotlib as plt"
   ]
  },
  {
   "cell_type": "code",
   "execution_count": 2,
   "metadata": {},
   "outputs": [],
   "source": [
    "housing = pd.read_csv(\"data.csv\")"
   ]
  },
  {
   "cell_type": "code",
   "execution_count": 3,
   "metadata": {},
   "outputs": [
    {
     "data": {
      "text/html": [
       "<div>\n",
       "<style scoped>\n",
       "    .dataframe tbody tr th:only-of-type {\n",
       "        vertical-align: middle;\n",
       "    }\n",
       "\n",
       "    .dataframe tbody tr th {\n",
       "        vertical-align: top;\n",
       "    }\n",
       "\n",
       "    .dataframe thead th {\n",
       "        text-align: right;\n",
       "    }\n",
       "</style>\n",
       "<table border=\"1\" class=\"dataframe\">\n",
       "  <thead>\n",
       "    <tr style=\"text-align: right;\">\n",
       "      <th></th>\n",
       "      <th>CRIM</th>\n",
       "      <th>ZN</th>\n",
       "      <th>INDUS</th>\n",
       "      <th>CHAS</th>\n",
       "      <th>NOX</th>\n",
       "      <th>RM</th>\n",
       "      <th>AGE</th>\n",
       "      <th>DIS</th>\n",
       "      <th>RAD</th>\n",
       "      <th>TAX</th>\n",
       "      <th>PTRATIO</th>\n",
       "      <th>B</th>\n",
       "      <th>LSTAT</th>\n",
       "      <th>MEDV</th>\n",
       "    </tr>\n",
       "  </thead>\n",
       "  <tbody>\n",
       "    <tr>\n",
       "      <th>0</th>\n",
       "      <td>0.00632</td>\n",
       "      <td>18.0</td>\n",
       "      <td>2.31</td>\n",
       "      <td>0</td>\n",
       "      <td>0.538</td>\n",
       "      <td>6.575</td>\n",
       "      <td>65.2</td>\n",
       "      <td>4.0900</td>\n",
       "      <td>1</td>\n",
       "      <td>296</td>\n",
       "      <td>15.3</td>\n",
       "      <td>396.90</td>\n",
       "      <td>4.98</td>\n",
       "      <td>24.0</td>\n",
       "    </tr>\n",
       "    <tr>\n",
       "      <th>1</th>\n",
       "      <td>0.02731</td>\n",
       "      <td>0.0</td>\n",
       "      <td>7.07</td>\n",
       "      <td>0</td>\n",
       "      <td>0.469</td>\n",
       "      <td>6.421</td>\n",
       "      <td>78.9</td>\n",
       "      <td>4.9671</td>\n",
       "      <td>2</td>\n",
       "      <td>242</td>\n",
       "      <td>17.8</td>\n",
       "      <td>396.90</td>\n",
       "      <td>9.14</td>\n",
       "      <td>21.6</td>\n",
       "    </tr>\n",
       "    <tr>\n",
       "      <th>2</th>\n",
       "      <td>0.02729</td>\n",
       "      <td>0.0</td>\n",
       "      <td>7.07</td>\n",
       "      <td>0</td>\n",
       "      <td>0.469</td>\n",
       "      <td>7.185</td>\n",
       "      <td>61.1</td>\n",
       "      <td>4.9671</td>\n",
       "      <td>2</td>\n",
       "      <td>242</td>\n",
       "      <td>17.8</td>\n",
       "      <td>392.83</td>\n",
       "      <td>4.03</td>\n",
       "      <td>34.7</td>\n",
       "    </tr>\n",
       "    <tr>\n",
       "      <th>3</th>\n",
       "      <td>0.03237</td>\n",
       "      <td>0.0</td>\n",
       "      <td>2.18</td>\n",
       "      <td>0</td>\n",
       "      <td>0.458</td>\n",
       "      <td>6.998</td>\n",
       "      <td>45.8</td>\n",
       "      <td>6.0622</td>\n",
       "      <td>3</td>\n",
       "      <td>222</td>\n",
       "      <td>18.7</td>\n",
       "      <td>394.63</td>\n",
       "      <td>2.94</td>\n",
       "      <td>33.4</td>\n",
       "    </tr>\n",
       "    <tr>\n",
       "      <th>4</th>\n",
       "      <td>0.06905</td>\n",
       "      <td>0.0</td>\n",
       "      <td>2.18</td>\n",
       "      <td>0</td>\n",
       "      <td>0.458</td>\n",
       "      <td>7.147</td>\n",
       "      <td>54.2</td>\n",
       "      <td>6.0622</td>\n",
       "      <td>3</td>\n",
       "      <td>222</td>\n",
       "      <td>18.7</td>\n",
       "      <td>396.90</td>\n",
       "      <td>5.33</td>\n",
       "      <td>36.2</td>\n",
       "    </tr>\n",
       "    <tr>\n",
       "      <th>5</th>\n",
       "      <td>0.02985</td>\n",
       "      <td>0.0</td>\n",
       "      <td>2.18</td>\n",
       "      <td>0</td>\n",
       "      <td>0.458</td>\n",
       "      <td>6.430</td>\n",
       "      <td>58.7</td>\n",
       "      <td>6.0622</td>\n",
       "      <td>3</td>\n",
       "      <td>222</td>\n",
       "      <td>18.7</td>\n",
       "      <td>394.12</td>\n",
       "      <td>5.21</td>\n",
       "      <td>28.7</td>\n",
       "    </tr>\n",
       "    <tr>\n",
       "      <th>6</th>\n",
       "      <td>0.08829</td>\n",
       "      <td>12.5</td>\n",
       "      <td>7.87</td>\n",
       "      <td>0</td>\n",
       "      <td>0.524</td>\n",
       "      <td>6.012</td>\n",
       "      <td>66.6</td>\n",
       "      <td>5.5605</td>\n",
       "      <td>5</td>\n",
       "      <td>311</td>\n",
       "      <td>15.2</td>\n",
       "      <td>395.60</td>\n",
       "      <td>12.43</td>\n",
       "      <td>22.9</td>\n",
       "    </tr>\n",
       "    <tr>\n",
       "      <th>7</th>\n",
       "      <td>0.14455</td>\n",
       "      <td>12.5</td>\n",
       "      <td>7.87</td>\n",
       "      <td>0</td>\n",
       "      <td>0.524</td>\n",
       "      <td>6.172</td>\n",
       "      <td>96.1</td>\n",
       "      <td>5.9505</td>\n",
       "      <td>5</td>\n",
       "      <td>311</td>\n",
       "      <td>15.2</td>\n",
       "      <td>396.90</td>\n",
       "      <td>19.15</td>\n",
       "      <td>27.1</td>\n",
       "    </tr>\n",
       "    <tr>\n",
       "      <th>8</th>\n",
       "      <td>0.21124</td>\n",
       "      <td>12.5</td>\n",
       "      <td>7.87</td>\n",
       "      <td>0</td>\n",
       "      <td>0.524</td>\n",
       "      <td>5.631</td>\n",
       "      <td>100.0</td>\n",
       "      <td>6.0821</td>\n",
       "      <td>5</td>\n",
       "      <td>311</td>\n",
       "      <td>15.2</td>\n",
       "      <td>386.63</td>\n",
       "      <td>29.93</td>\n",
       "      <td>16.5</td>\n",
       "    </tr>\n",
       "    <tr>\n",
       "      <th>9</th>\n",
       "      <td>0.17004</td>\n",
       "      <td>12.5</td>\n",
       "      <td>7.87</td>\n",
       "      <td>0</td>\n",
       "      <td>0.524</td>\n",
       "      <td>6.004</td>\n",
       "      <td>85.9</td>\n",
       "      <td>6.5921</td>\n",
       "      <td>5</td>\n",
       "      <td>311</td>\n",
       "      <td>15.2</td>\n",
       "      <td>386.71</td>\n",
       "      <td>17.10</td>\n",
       "      <td>18.9</td>\n",
       "    </tr>\n",
       "  </tbody>\n",
       "</table>\n",
       "</div>"
      ],
      "text/plain": [
       "      CRIM    ZN  INDUS  CHAS    NOX     RM    AGE     DIS  RAD  TAX  PTRATIO  \\\n",
       "0  0.00632  18.0   2.31     0  0.538  6.575   65.2  4.0900    1  296     15.3   \n",
       "1  0.02731   0.0   7.07     0  0.469  6.421   78.9  4.9671    2  242     17.8   \n",
       "2  0.02729   0.0   7.07     0  0.469  7.185   61.1  4.9671    2  242     17.8   \n",
       "3  0.03237   0.0   2.18     0  0.458  6.998   45.8  6.0622    3  222     18.7   \n",
       "4  0.06905   0.0   2.18     0  0.458  7.147   54.2  6.0622    3  222     18.7   \n",
       "5  0.02985   0.0   2.18     0  0.458  6.430   58.7  6.0622    3  222     18.7   \n",
       "6  0.08829  12.5   7.87     0  0.524  6.012   66.6  5.5605    5  311     15.2   \n",
       "7  0.14455  12.5   7.87     0  0.524  6.172   96.1  5.9505    5  311     15.2   \n",
       "8  0.21124  12.5   7.87     0  0.524  5.631  100.0  6.0821    5  311     15.2   \n",
       "9  0.17004  12.5   7.87     0  0.524  6.004   85.9  6.5921    5  311     15.2   \n",
       "\n",
       "        B  LSTAT  MEDV  \n",
       "0  396.90   4.98  24.0  \n",
       "1  396.90   9.14  21.6  \n",
       "2  392.83   4.03  34.7  \n",
       "3  394.63   2.94  33.4  \n",
       "4  396.90   5.33  36.2  \n",
       "5  394.12   5.21  28.7  \n",
       "6  395.60  12.43  22.9  \n",
       "7  396.90  19.15  27.1  \n",
       "8  386.63  29.93  16.5  \n",
       "9  386.71  17.10  18.9  "
      ]
     },
     "execution_count": 3,
     "metadata": {},
     "output_type": "execute_result"
    }
   ],
   "source": [
    "housing.head(10)#just reading top 10 rows for some information"
   ]
  },
  {
   "cell_type": "code",
   "execution_count": 4,
   "metadata": {},
   "outputs": [
    {
     "name": "stdout",
     "output_type": "stream",
     "text": [
      "<class 'pandas.core.frame.DataFrame'>\n",
      "RangeIndex: 507 entries, 0 to 506\n",
      "Data columns (total 14 columns):\n",
      "CRIM       507 non-null float64\n",
      "ZN         507 non-null float64\n",
      "INDUS      507 non-null float64\n",
      "CHAS       507 non-null int64\n",
      "NOX        507 non-null float64\n",
      "RM         507 non-null float64\n",
      "AGE        507 non-null float64\n",
      "DIS        507 non-null float64\n",
      "RAD        507 non-null int64\n",
      "TAX        507 non-null int64\n",
      "PTRATIO    507 non-null float64\n",
      "B          507 non-null float64\n",
      "LSTAT      507 non-null float64\n",
      "MEDV       507 non-null float64\n",
      "dtypes: float64(11), int64(3)\n",
      "memory usage: 55.5 KB\n"
     ]
    }
   ],
   "source": [
    "#checking the rows and confirming if there is no missing data row \n",
    "housing.info()"
   ]
  },
  {
   "cell_type": "code",
   "execution_count": 5,
   "metadata": {},
   "outputs": [
    {
     "data": {
      "text/html": [
       "<div>\n",
       "<style scoped>\n",
       "    .dataframe tbody tr th:only-of-type {\n",
       "        vertical-align: middle;\n",
       "    }\n",
       "\n",
       "    .dataframe tbody tr th {\n",
       "        vertical-align: top;\n",
       "    }\n",
       "\n",
       "    .dataframe thead th {\n",
       "        text-align: right;\n",
       "    }\n",
       "</style>\n",
       "<table border=\"1\" class=\"dataframe\">\n",
       "  <thead>\n",
       "    <tr style=\"text-align: right;\">\n",
       "      <th></th>\n",
       "      <th>CRIM</th>\n",
       "      <th>ZN</th>\n",
       "      <th>INDUS</th>\n",
       "      <th>CHAS</th>\n",
       "      <th>NOX</th>\n",
       "      <th>RM</th>\n",
       "      <th>AGE</th>\n",
       "      <th>DIS</th>\n",
       "      <th>RAD</th>\n",
       "      <th>TAX</th>\n",
       "      <th>PTRATIO</th>\n",
       "      <th>B</th>\n",
       "      <th>LSTAT</th>\n",
       "      <th>MEDV</th>\n",
       "    </tr>\n",
       "  </thead>\n",
       "  <tbody>\n",
       "    <tr>\n",
       "      <th>count</th>\n",
       "      <td>507.000000</td>\n",
       "      <td>507.000000</td>\n",
       "      <td>507.000000</td>\n",
       "      <td>507.000000</td>\n",
       "      <td>507.000000</td>\n",
       "      <td>507.000000</td>\n",
       "      <td>507.000000</td>\n",
       "      <td>507.000000</td>\n",
       "      <td>507.000000</td>\n",
       "      <td>507.000000</td>\n",
       "      <td>507.000000</td>\n",
       "      <td>507.000000</td>\n",
       "      <td>507.000000</td>\n",
       "      <td>507.000000</td>\n",
       "    </tr>\n",
       "    <tr>\n",
       "      <th>mean</th>\n",
       "      <td>3.606490</td>\n",
       "      <td>11.341223</td>\n",
       "      <td>11.138343</td>\n",
       "      <td>0.069034</td>\n",
       "      <td>0.554731</td>\n",
       "      <td>6.284132</td>\n",
       "      <td>68.599014</td>\n",
       "      <td>3.792498</td>\n",
       "      <td>9.532544</td>\n",
       "      <td>407.970414</td>\n",
       "      <td>18.460552</td>\n",
       "      <td>356.753373</td>\n",
       "      <td>12.643649</td>\n",
       "      <td>22.511834</td>\n",
       "    </tr>\n",
       "    <tr>\n",
       "      <th>std</th>\n",
       "      <td>8.594501</td>\n",
       "      <td>23.304861</td>\n",
       "      <td>6.853661</td>\n",
       "      <td>0.253762</td>\n",
       "      <td>0.115766</td>\n",
       "      <td>0.702014</td>\n",
       "      <td>28.126273</td>\n",
       "      <td>2.104408</td>\n",
       "      <td>8.706934</td>\n",
       "      <td>168.477585</td>\n",
       "      <td>2.165755</td>\n",
       "      <td>91.222103</td>\n",
       "      <td>7.137150</td>\n",
       "      <td>9.200138</td>\n",
       "    </tr>\n",
       "    <tr>\n",
       "      <th>min</th>\n",
       "      <td>0.006320</td>\n",
       "      <td>0.000000</td>\n",
       "      <td>0.460000</td>\n",
       "      <td>0.000000</td>\n",
       "      <td>0.385000</td>\n",
       "      <td>3.561000</td>\n",
       "      <td>2.900000</td>\n",
       "      <td>1.129600</td>\n",
       "      <td>1.000000</td>\n",
       "      <td>187.000000</td>\n",
       "      <td>12.600000</td>\n",
       "      <td>0.320000</td>\n",
       "      <td>1.730000</td>\n",
       "      <td>5.000000</td>\n",
       "    </tr>\n",
       "    <tr>\n",
       "      <th>25%</th>\n",
       "      <td>0.081930</td>\n",
       "      <td>0.000000</td>\n",
       "      <td>5.190000</td>\n",
       "      <td>0.000000</td>\n",
       "      <td>0.449000</td>\n",
       "      <td>5.886000</td>\n",
       "      <td>45.050000</td>\n",
       "      <td>2.100350</td>\n",
       "      <td>4.000000</td>\n",
       "      <td>279.000000</td>\n",
       "      <td>17.400000</td>\n",
       "      <td>375.425000</td>\n",
       "      <td>6.970000</td>\n",
       "      <td>16.900000</td>\n",
       "    </tr>\n",
       "    <tr>\n",
       "      <th>50%</th>\n",
       "      <td>0.253870</td>\n",
       "      <td>0.000000</td>\n",
       "      <td>9.690000</td>\n",
       "      <td>0.000000</td>\n",
       "      <td>0.538000</td>\n",
       "      <td>6.208000</td>\n",
       "      <td>77.700000</td>\n",
       "      <td>3.199200</td>\n",
       "      <td>5.000000</td>\n",
       "      <td>330.000000</td>\n",
       "      <td>19.100000</td>\n",
       "      <td>391.450000</td>\n",
       "      <td>11.340000</td>\n",
       "      <td>21.200000</td>\n",
       "    </tr>\n",
       "    <tr>\n",
       "      <th>75%</th>\n",
       "      <td>3.675945</td>\n",
       "      <td>12.500000</td>\n",
       "      <td>18.100000</td>\n",
       "      <td>0.000000</td>\n",
       "      <td>0.624000</td>\n",
       "      <td>6.622000</td>\n",
       "      <td>94.050000</td>\n",
       "      <td>5.164950</td>\n",
       "      <td>24.000000</td>\n",
       "      <td>666.000000</td>\n",
       "      <td>20.200000</td>\n",
       "      <td>396.235000</td>\n",
       "      <td>16.950000</td>\n",
       "      <td>25.000000</td>\n",
       "    </tr>\n",
       "    <tr>\n",
       "      <th>max</th>\n",
       "      <td>88.976200</td>\n",
       "      <td>100.000000</td>\n",
       "      <td>27.740000</td>\n",
       "      <td>1.000000</td>\n",
       "      <td>0.871000</td>\n",
       "      <td>8.780000</td>\n",
       "      <td>100.000000</td>\n",
       "      <td>12.126500</td>\n",
       "      <td>24.000000</td>\n",
       "      <td>711.000000</td>\n",
       "      <td>22.000000</td>\n",
       "      <td>396.900000</td>\n",
       "      <td>37.970000</td>\n",
       "      <td>50.000000</td>\n",
       "    </tr>\n",
       "  </tbody>\n",
       "</table>\n",
       "</div>"
      ],
      "text/plain": [
       "             CRIM          ZN       INDUS        CHAS         NOX          RM  \\\n",
       "count  507.000000  507.000000  507.000000  507.000000  507.000000  507.000000   \n",
       "mean     3.606490   11.341223   11.138343    0.069034    0.554731    6.284132   \n",
       "std      8.594501   23.304861    6.853661    0.253762    0.115766    0.702014   \n",
       "min      0.006320    0.000000    0.460000    0.000000    0.385000    3.561000   \n",
       "25%      0.081930    0.000000    5.190000    0.000000    0.449000    5.886000   \n",
       "50%      0.253870    0.000000    9.690000    0.000000    0.538000    6.208000   \n",
       "75%      3.675945   12.500000   18.100000    0.000000    0.624000    6.622000   \n",
       "max     88.976200  100.000000   27.740000    1.000000    0.871000    8.780000   \n",
       "\n",
       "              AGE         DIS         RAD         TAX     PTRATIO           B  \\\n",
       "count  507.000000  507.000000  507.000000  507.000000  507.000000  507.000000   \n",
       "mean    68.599014    3.792498    9.532544  407.970414   18.460552  356.753373   \n",
       "std     28.126273    2.104408    8.706934  168.477585    2.165755   91.222103   \n",
       "min      2.900000    1.129600    1.000000  187.000000   12.600000    0.320000   \n",
       "25%     45.050000    2.100350    4.000000  279.000000   17.400000  375.425000   \n",
       "50%     77.700000    3.199200    5.000000  330.000000   19.100000  391.450000   \n",
       "75%     94.050000    5.164950   24.000000  666.000000   20.200000  396.235000   \n",
       "max    100.000000   12.126500   24.000000  711.000000   22.000000  396.900000   \n",
       "\n",
       "            LSTAT        MEDV  \n",
       "count  507.000000  507.000000  \n",
       "mean    12.643649   22.511834  \n",
       "std      7.137150    9.200138  \n",
       "min      1.730000    5.000000  \n",
       "25%      6.970000   16.900000  \n",
       "50%     11.340000   21.200000  \n",
       "75%     16.950000   25.000000  \n",
       "max     37.970000   50.000000  "
      ]
     },
     "execution_count": 5,
     "metadata": {},
     "output_type": "execute_result"
    }
   ],
   "source": [
    "#going through the statistical data of the given dataset for information and future reference\n",
    "housing.describe()"
   ]
  },
  {
   "cell_type": "code",
   "execution_count": 6,
   "metadata": {},
   "outputs": [],
   "source": [
    "#to print the graphs in the interface itself\n",
    "%matplotlib inline "
   ]
  },
  {
   "cell_type": "code",
   "execution_count": 7,
   "metadata": {},
   "outputs": [],
   "source": [
    "import matplotlib.pyplot as plt"
   ]
  },
  {
   "cell_type": "code",
   "execution_count": 8,
   "metadata": {},
   "outputs": [
    {
     "data": {
      "text/plain": [
       "array([[<matplotlib.axes._subplots.AxesSubplot object at 0x00000208BECC7550>,\n",
       "        <matplotlib.axes._subplots.AxesSubplot object at 0x00000208BF84B9E8>,\n",
       "        <matplotlib.axes._subplots.AxesSubplot object at 0x00000208BF882F98>,\n",
       "        <matplotlib.axes._subplots.AxesSubplot object at 0x00000208BF8BD588>],\n",
       "       [<matplotlib.axes._subplots.AxesSubplot object at 0x00000208BF8EDB38>,\n",
       "        <matplotlib.axes._subplots.AxesSubplot object at 0x00000208BF92C128>,\n",
       "        <matplotlib.axes._subplots.AxesSubplot object at 0x00000208BF95B6D8>,\n",
       "        <matplotlib.axes._subplots.AxesSubplot object at 0x00000208BF98CCC0>],\n",
       "       [<matplotlib.axes._subplots.AxesSubplot object at 0x00000208BF98CCF8>,\n",
       "        <matplotlib.axes._subplots.AxesSubplot object at 0x00000208BF9FA828>,\n",
       "        <matplotlib.axes._subplots.AxesSubplot object at 0x00000208BFA2DDD8>,\n",
       "        <matplotlib.axes._subplots.AxesSubplot object at 0x00000208BFA693C8>],\n",
       "       [<matplotlib.axes._subplots.AxesSubplot object at 0x00000208BFA99978>,\n",
       "        <matplotlib.axes._subplots.AxesSubplot object at 0x00000208BFACCF28>,\n",
       "        <matplotlib.axes._subplots.AxesSubplot object at 0x00000208BFB07518>,\n",
       "        <matplotlib.axes._subplots.AxesSubplot object at 0x00000208BFB37AC8>]],\n",
       "      dtype=object)"
      ]
     },
     "execution_count": 8,
     "metadata": {},
     "output_type": "execute_result"
    },
    {
     "data": {
      "image/png": "[encoded data removed]",
      "text/plain": [
       "<Figure size 1440x1080 with 16 Axes>"
      ]
     },
     "metadata": {
      "needs_background": "light"
     },
     "output_type": "display_data"
    }
   ],
   "source": [
    "#to view all features as histogram plot for easy understanding of the data and crosschecking whenever we want to\n",
    "housing.hist(bins=50,figsize=(20,15))"
   ]
  },
  {
   "cell_type": "code",
   "execution_count": 9,
   "metadata": {},
   "outputs": [],
   "source": [
    "\n",
    "## train test splititng\n"
   ]
  },
  {
   "cell_type": "code",
   "execution_count": 10,
   "metadata": {},
   "outputs": [],
   "source": [
    "#for conceptuality and learning and demonstrating understanding in the ml function\n",
    "def split_train_test(data, test_ratio):\n",
    "   np.random.seed(42)\n",
    "   shuffled = np.random.permutation(len(data))#numpy is used here\n",
    "   test_set_size=int(len(data)*test_ratio)#test ratio is the fraction of datset taken in as \n",
    "   test_indices = shuffled[:test_set_size]#splitting using slicing of list\n",
    "   train_indices = shuffled[test_set_size:]#splitting using slicing of list\n",
    "   return data.iloc[train_indices], data.iloc[test_indices]#returns the lists after splitting"
   ]
  },
  {
   "cell_type": "code",
   "execution_count": 11,
   "metadata": {},
   "outputs": [],
   "source": [
    "train_set,test_set=split_train_test(housing,0.2)#calling the above user defined function to pass values and get the split sets"
   ]
  },
  {
   "cell_type": "code",
   "execution_count": 12,
   "metadata": {},
   "outputs": [
    {
     "name": "stdout",
     "output_type": "stream",
     "text": [
      "rows in train set= 406 rows in test set= 101\n"
     ]
    }
   ],
   "source": [
    "print(\"rows in train set=\",len(train_set),\"rows in test set=\",len(test_set))#to check number of rows in each set"
   ]
  },
  {
   "cell_type": "code",
   "execution_count": 13,
   "metadata": {},
   "outputs": [],
   "source": [
    "#the above method may miss values of CHAS where CHAS is equal to 1 and this will cause the trianing of model to be inaccurateand thus the model will be not accurate and will give wrong prediction\n",
    "#we use seed to set the random value as a constant shuffled value to avoid the model to read all values and maintaain secracy of test set\n",
    "#the seed valuewe use is widely used as a common value so we use 42,any value can be used instead of 42"
   ]
  },
  {
   "cell_type": "code",
   "execution_count": 14,
   "metadata": {},
   "outputs": [
    {
     "name": "stdout",
     "output_type": "stream",
     "text": [
      "rows in train set= 405 rows in test set= 102\n"
     ]
    }
   ],
   "source": [
    "#we did all this task manually but we can also use inbuilt function from sci kit learn model\n",
    "from sklearn.model_selection import train_test_split\n",
    "train_set, test_set=train_test_split(housing,test_size=0.2,random_state=42)\n",
    "print(\"rows in train set=\",len(train_set),\"rows in test set=\",len(test_set))#to check number of rows in each set"
   ]
  },
  {
   "cell_type": "code",
   "execution_count": 15,
   "metadata": {},
   "outputs": [
    {
     "name": "stdout",
     "output_type": "stream",
     "text": [
      "StratifiedShuffleSplit(n_splits=2, random_state=0, test_size=0.2,\n",
      "            train_size=None)\n",
      "         CRIM    ZN  INDUS  CHAS     NOX     RM    AGE      DIS  RAD  TAX  \\\n",
      "60    0.14932  25.0   5.13     0  0.4530  5.741   66.2   7.2254    8  284   \n",
      "408   7.40389   0.0  18.10     0  0.5970  5.617   97.9   1.4547   24  666   \n",
      "11    0.11747  12.5   7.87     0  0.5240  6.009   82.9   6.2267    5  311   \n",
      "194   0.01439  60.0   2.93     0  0.4010  6.604   18.8   6.2196    1  265   \n",
      "376  15.28800   0.0  18.10     0  0.6710  6.649   93.3   1.3449   24  666   \n",
      "351   0.07950  60.0   1.69     0  0.4110  6.579   35.9  10.7103    4  411   \n",
      "312   0.26169   0.0   9.90     0  0.5440  6.023   90.4   2.8340    4  304   \n",
      "88    0.05660   0.0   3.41     0  0.4890  7.007   86.3   3.4217    2  270   \n",
      "223   0.61470   0.0   6.20     0  0.5070  6.618   80.8   3.2721    8  307   \n",
      "413  28.65580   0.0  18.10     0  0.5970  5.155  100.0   1.5894   24  666   \n",
      "256   0.01538  90.0   3.75     0  0.3940  7.454   34.2   6.3361    3  244   \n",
      "299   0.05561  70.0   2.24     0  0.4000  7.041   10.0   7.8278    5  358   \n",
      "235   0.33045   0.0   6.20     0  0.5070  6.086   61.5   3.6519    8  307   \n",
      "461   3.69311   0.0  18.10     0  0.7130  6.376   88.4   2.5671   24  666   \n",
      "70    0.08826   0.0  10.81     0  0.4130  6.417    6.6   5.2873    4  305   \n",
      "172   0.13914   0.0   4.05     0  0.5100  5.572   88.5   2.5961    5  296   \n",
      "283   0.01501  90.0   1.21     1  0.4010  7.923   24.8   5.8850    1  198   \n",
      "402   9.59571   0.0  18.10     0  0.6930  6.404  100.0   1.6390   24  666   \n",
      "131   1.19294   0.0  21.89     0  0.6240  6.326   97.7   2.2710    4  437   \n",
      "106   0.17120   0.0   8.56     0  0.5200  5.836   91.9   2.2110    5  384   \n",
      "180   0.06588   0.0   2.46     0  0.4880  7.765   83.3   2.7410    3  193   \n",
      "505   0.04741   0.0  11.93     0  0.5730  6.030   80.8   2.5050    1  273   \n",
      "333   0.05083   0.0   5.19     0  0.5150  6.316   38.1   6.4584    5  224   \n",
      "472   3.56868   0.0  18.10     0  0.5800  6.437   75.0   2.8965   24  666   \n",
      "427  37.66190   0.0  18.10     0  0.6790  6.202   78.7   1.8629   24  666   \n",
      "453   8.24809   0.0  18.10     0  0.7130  7.393   99.3   2.4527   24  666   \n",
      "384  20.08490   0.0  18.10     0  0.7000  4.368   91.2   1.4395   24  666   \n",
      "10    0.22489  12.5   7.87     0  0.5240  6.377   94.3   6.3467    5  311   \n",
      "323   0.28392   0.0   7.38     0  0.4930  5.708   74.3   4.7211    5  287   \n",
      "437  15.17720   0.0  18.10     0  0.7400  6.152  100.0   1.9142   24  666   \n",
      "..        ...   ...    ...   ...     ...    ...    ...      ...  ...  ...   \n",
      "64    0.01951  17.5   1.38     0  0.4161  7.104   59.5   9.2229    3  216   \n",
      "224   0.31533   0.0   6.20     0  0.5040  8.266   78.3   2.8944    8  307   \n",
      "348   0.01501  80.0   2.01     0  0.4350  6.635   29.7   8.3440    4  280   \n",
      "492   0.11132   0.0  27.74     0  0.6090  5.983   83.5   2.1099    4  711   \n",
      "105   0.13262   0.0   8.56     0  0.5200  5.851   96.7   2.1069    5  384   \n",
      "406  20.71620   0.0  18.10     0  0.6590  4.138  100.0   1.1781   24  666   \n",
      "503   0.06076   0.0  11.93     0  0.5730  6.976   91.0   2.1675    1  273   \n",
      "117   0.15098   0.0  10.01     0  0.5470  6.021   82.6   2.7474    6  432   \n",
      "436  14.42080   0.0  18.10     0  0.7400  6.461   93.3   2.0026   24  666   \n",
      "179   0.05780   0.0   2.46     0  0.4880  6.980   58.4   2.8290    3  193   \n",
      "33    1.15172   0.0   8.14     0  0.5380  5.701   95.0   3.7872    4  307   \n",
      "123   0.15038   0.0  25.65     0  0.5810  5.856   97.0   1.9444    2  188   \n",
      "202   0.02177  82.5   2.03     0  0.4150  7.610   15.7   6.2700    2  348   \n",
      "192   0.08664  45.0   3.44     0  0.4370  7.178   26.3   6.4798    5  398   \n",
      "398  38.35180   0.0  18.10     0  0.6930  5.453  100.0   1.4896   24  666   \n",
      "362   3.67822   0.0  18.10     0  0.7700  5.362   96.2   2.1036   24  666   \n",
      "198   0.03768  80.0   1.52     0  0.4040  7.274   38.3   7.3090    2  329   \n",
      "257   0.61154  20.0   3.97     0  0.6470  8.704   86.9   1.8010    5  264   \n",
      "298   0.06466  70.0   2.24     0  0.4000  6.345   20.1   7.8278    5  358   \n",
      "341   0.01301  35.0   1.52     0  0.4420  7.241   49.3   7.0379    1  284   \n",
      "311   0.79041   0.0   9.90     0  0.5440  6.122   52.8   2.6403    4  304   \n",
      "142   3.32105   0.0  19.58     1  0.8710  5.403  100.0   1.3216    5  403   \n",
      "78    0.05646   0.0  12.83     0  0.4370  6.232   53.7   5.0141    5  398   \n",
      "356   8.98296   0.0  18.10     1  0.7700  6.212   97.4   2.1222   24  666   \n",
      "15    0.62739   0.0   8.14     0  0.5380  5.834   56.5   4.4986    4  307   \n",
      "262   0.52014  20.0   3.97     0  0.6470  8.398   91.5   2.2885    5  264   \n",
      "282   0.06129  20.0   3.33     1  0.4429  7.645   49.7   5.2119    5  216   \n",
      "160   1.27346   0.0  19.58     1  0.6050  6.250   92.6   1.7984    5  403   \n",
      "483   2.81838   0.0  18.10     0  0.5320  5.762   40.3   4.0983   24  666   \n",
      "188   0.12579  45.0   3.44     0  0.4370  6.556   29.1   4.5667    5  398   \n",
      "\n",
      "     PTRATIO       B  LSTAT  MEDV  \n",
      "60      19.7  395.11  13.15  18.7  \n",
      "408     20.2  314.64  26.40  17.2  \n",
      "11      15.2  396.90  13.27  18.9  \n",
      "194     15.6  376.70   4.38  29.1  \n",
      "376     20.2  363.02  23.24  13.9  \n",
      "351     18.3  370.78   5.49  24.1  \n",
      "312     18.4  396.30  11.72  19.4  \n",
      "88      17.8  396.90   5.50  23.6  \n",
      "223     17.4  396.90   7.60  30.1  \n",
      "413     20.2  210.97  20.08  16.3  \n",
      "256     15.9  386.34   3.11  44.0  \n",
      "299     14.8  371.58   4.74  29.0  \n",
      "235     17.4  376.75  10.88  24.0  \n",
      "461     20.2  391.43  14.65  17.7  \n",
      "70      19.2  383.73   6.72  24.2  \n",
      "172     16.6  396.90  14.69  23.1  \n",
      "283     13.6  395.52   3.16  50.0  \n",
      "402     20.2  376.11  20.31  12.1  \n",
      "131     21.2  396.90  12.26  19.6  \n",
      "106     20.9  395.67  18.66  19.5  \n",
      "180     17.8  395.56   7.56  39.8  \n",
      "505     21.0  396.90   7.88  11.9  \n",
      "333     20.2  389.71   5.68  22.2  \n",
      "472     20.2  393.37  14.36  23.2  \n",
      "427     20.2   18.82  14.52  10.9  \n",
      "453     20.2  375.87  16.74  17.8  \n",
      "384     20.2  285.83  30.63   8.8  \n",
      "10      15.2  392.52  20.45  15.0  \n",
      "323     19.6  391.13  11.74  18.5  \n",
      "437     20.2    9.32  26.45   8.7  \n",
      "..       ...     ...    ...   ...  \n",
      "64      18.6  393.24   8.05  33.0  \n",
      "224     17.4  385.05   4.14  44.8  \n",
      "348     17.0  390.94   5.99  24.5  \n",
      "492     20.1  396.90  13.35  20.1  \n",
      "105     20.9  394.05  16.47  19.5  \n",
      "406     20.2  370.22  23.34  11.9  \n",
      "503     21.0  396.90   5.64  23.9  \n",
      "117     17.8  394.51  10.30  19.2  \n",
      "436     20.2   27.49  18.05   9.6  \n",
      "179     17.8  396.90   5.04  37.2  \n",
      "33      21.0  358.77  18.35  13.1  \n",
      "123     19.1  370.31  25.41  17.3  \n",
      "202     14.7  395.38   3.11  42.3  \n",
      "192     15.2  390.49   2.87  36.4  \n",
      "398     20.2  396.90  30.59   5.0  \n",
      "362     20.2  380.79  10.19  20.8  \n",
      "198     12.6  392.20   6.62  34.6  \n",
      "257     13.0  389.70   5.12  50.0  \n",
      "298     14.8  368.24   4.97  22.5  \n",
      "341     15.5  394.74   5.49  32.7  \n",
      "311     18.4  396.90   5.98  22.1  \n",
      "142     14.7  396.90  26.82  13.4  \n",
      "78      18.7  386.40  12.34  21.2  \n",
      "356     20.2  377.73  17.60  17.8  \n",
      "15      21.0  395.62   8.47  19.9  \n",
      "262     13.0  386.86   5.91  48.8  \n",
      "282     14.9  377.07   3.01  46.0  \n",
      "160     14.7  338.92   5.50  27.0  \n",
      "483     20.2  392.92  10.42  21.8  \n",
      "188     15.2  382.84   4.56  29.8  \n",
      "\n",
      "[102 rows x 14 columns]\n",
      "         CRIM    ZN  INDUS  CHAS    NOX     RM    AGE      DIS  RAD  TAX  \\\n",
      "58    0.15445  25.0   5.13     0  0.453  6.145   29.2   7.8148    8  284   \n",
      "93    0.02875  28.0  15.04     0  0.464  6.211   28.9   3.6659    4  270   \n",
      "330   0.04544   0.0   3.24     0  0.460  6.144   32.2   5.8736    4  430   \n",
      "318   0.40202   0.0   9.90     0  0.544  6.382   67.2   3.5325    4  304   \n",
      "27    0.95577   0.0   8.14     0  0.538  6.047   88.8   4.4534    4  307   \n",
      "251   0.21409  22.0   5.86     0  0.431  6.438    8.9   7.3967    7  330   \n",
      "434  13.91340   0.0  18.10     0  0.713  6.208   95.0   2.2222   24  666   \n",
      "405  67.92080   0.0  18.10     0  0.693  5.683  100.0   1.4254   24  666   \n",
      "37    0.08014   0.0   5.96     0  0.499  5.850   41.5   3.9342    5  279   \n",
      "228   0.29819   0.0   6.20     0  0.504  7.686   17.0   3.3751    8  307   \n",
      "350   0.06211  40.0   1.25     0  0.429  6.490   44.4   8.7921    1  335   \n",
      "502   0.04527   0.0  11.93     0  0.573  6.120   76.7   2.2875    1  273   \n",
      "321   0.18159   0.0   7.38     0  0.493  6.376   54.3   4.5404    5  287   \n",
      "214   0.28955   0.0  10.59     0  0.489  5.412    9.8   3.5875    4  277   \n",
      "369   5.66998   0.0  18.10     1  0.631  6.683   96.8   1.3567   24  666   \n",
      "272   0.11460  20.0   6.96     0  0.464  6.538   58.7   3.9175    3  223   \n",
      "227   0.41238   0.0   6.20     0  0.504  7.163   79.9   3.2157    8  307   \n",
      "372   8.26725   0.0  18.10     1  0.668  5.875   89.6   1.1296   24  666   \n",
      "309   0.34940   0.0   9.90     0  0.544  5.972   76.7   3.1025    4  304   \n",
      "67    0.05789  12.5   6.07     0  0.409  5.878   21.4   6.4980    4  345   \n",
      "152   1.12658   0.0  19.58     1  0.871  5.012   88.0   1.6102    5  403   \n",
      "435  11.16040   0.0  18.10     0  0.740  6.629   94.6   2.1247   24  666   \n",
      "303   0.10000  34.0   6.09     0  0.433  6.982   17.7   5.4917    7  329   \n",
      "19    0.72580   0.0   8.14     0  0.538  5.727   69.5   3.7965    4  307   \n",
      "76    0.10153   0.0  12.83     0  0.437  6.279   74.5   4.0522    5  398   \n",
      "191   0.06911  45.0   3.44     0  0.437  6.739   30.8   6.4798    5  398   \n",
      "96    0.11504   0.0   2.89     0  0.445  6.163   69.6   3.4952    2  276   \n",
      "412  18.81100   0.0  18.10     0  0.597  4.628  100.0   1.5539   24  666   \n",
      "365   4.55587   0.0  18.10     0  0.718  3.561   87.9   1.6132   24  666   \n",
      "373  11.10810   0.0  18.10     0  0.668  4.906  100.0   1.1742   24  666   \n",
      "..        ...   ...    ...   ...    ...    ...    ...      ...  ...  ...   \n",
      "91    0.03932   0.0   3.41     0  0.489  6.405   73.9   3.0921    2  270   \n",
      "246   0.33983  22.0   5.86     0  0.431  6.108   34.9   8.0555    7  330   \n",
      "49    0.21977   0.0   6.91     0  0.448  5.602   62.0   6.0877    3  233   \n",
      "401  14.23620   0.0  18.10     0  0.693  6.343  100.0   1.5741   24  666   \n",
      "349   0.02899  40.0   1.25     0  0.429  6.939   34.5   8.7921    1  335   \n",
      "302   0.09266  34.0   6.09     0  0.433  6.495   18.4   5.4917    7  329   \n",
      "353   0.01709  90.0   2.02     0  0.410  6.728   36.1  12.1265    5  187   \n",
      "25    0.84054   0.0   8.14     0  0.538  5.599   85.7   4.4546    4  307   \n",
      "98    0.08187   0.0   2.89     0  0.445  7.820   36.9   3.4952    2  276   \n",
      "35    0.06417   0.0   5.96     0  0.499  5.933   68.2   3.3603    5  279   \n",
      "39    0.02763  75.0   2.95     0  0.428  6.595   21.8   5.4011    3  252   \n",
      "274   0.05644  40.0   6.41     1  0.447  6.758   32.9   4.0776    4  254   \n",
      "69    0.12816  12.5   6.07     0  0.409  5.885   33.0   6.4980    4  345   \n",
      "45    0.17142   0.0   6.91     0  0.448  5.682   33.8   5.1004    3  233   \n",
      "116   0.13158   0.0  10.01     0  0.547  6.176   72.5   2.7301    6  432   \n",
      "386  24.39380   0.0  18.10     0  0.700  4.652  100.0   1.4672   24  666   \n",
      "133   0.32982   0.0  21.89     0  0.624  5.822   95.4   2.4699    4  437   \n",
      "494   0.27957   0.0   9.69     0  0.585  5.926   42.6   2.3817    6  391   \n",
      "165   2.92400   0.0  19.58     0  0.605  6.101   93.0   2.2834    5  403   \n",
      "31    1.35472   0.0   8.14     0  0.538  6.072  100.0   4.1750    4  307   \n",
      "118   0.13058   0.0  10.01     0  0.547  5.872   73.1   2.4775    6  432   \n",
      "244   0.20608  22.0   5.86     0  0.431  5.593   76.5   7.9549    7  330   \n",
      "46    0.18836   0.0   6.91     0  0.448  5.786   33.3   5.1004    3  233   \n",
      "44    0.12269   0.0   6.91     0  0.448  6.069   40.0   5.7209    3  233   \n",
      "72    0.09164   0.0  10.81     0  0.413  6.065    7.8   5.2873    4  305   \n",
      "183   0.10008   0.0   2.46     0  0.488  6.563   95.6   2.8470    3  193   \n",
      "201   0.03445  82.5   2.03     0  0.415  6.162   38.4   6.2700    2  348   \n",
      "339   0.05497   0.0   5.19     0  0.515  5.985   45.4   4.8122    5  224   \n",
      "361   3.83684   0.0  18.10     0  0.770  6.251   91.1   2.2955   24  666   \n",
      "59    0.10328  25.0   5.13     0  0.453  5.927   47.2   6.9320    8  284   \n",
      "\n",
      "     PTRATIO       B  LSTAT  MEDV  \n",
      "58      19.7  390.68   6.86  23.3  \n",
      "93      18.2  396.33   6.21  25.0  \n",
      "330     16.9  368.57   9.09  19.8  \n",
      "318     18.4  395.21  10.36  23.1  \n",
      "27      21.0  306.38  17.28  14.8  \n",
      "251     19.1  377.07   3.59  24.8  \n",
      "434     20.2  100.63  15.17  11.7  \n",
      "405     20.2  384.97  22.98   5.0  \n",
      "37      19.2  396.90   8.77  21.0  \n",
      "228     17.4  377.51   3.92  46.7  \n",
      "350     19.7  396.90   5.98  22.9  \n",
      "502     21.0  396.90   9.08  20.6  \n",
      "321     19.6  396.90   6.87  23.1  \n",
      "214     18.6  348.93  29.55  23.7  \n",
      "369     20.2  375.33   3.73  50.0  \n",
      "272     18.6  394.96   7.73  24.4  \n",
      "227     17.4  372.08   6.36  31.6  \n",
      "372     20.2  347.88   8.88  50.0  \n",
      "309     18.4  396.24   9.97  20.3  \n",
      "67      18.9  396.21   8.10  22.0  \n",
      "152     14.7  343.28  12.12  15.3  \n",
      "435     20.2  109.85  23.27  13.4  \n",
      "303     16.1  390.43   4.86  33.1  \n",
      "19      21.0  390.95  11.28  18.2  \n",
      "76      18.7  373.66  11.97  20.0  \n",
      "191     15.2  389.71   4.69  30.5  \n",
      "96      18.0  391.83  11.34  21.4  \n",
      "412     20.2   28.79  34.37  17.9  \n",
      "365     20.2  354.70   7.12  27.5  \n",
      "373     20.2  396.90  34.77  13.8  \n",
      "..       ...     ...    ...   ...  \n",
      "91      17.8  393.55   8.20  22.0  \n",
      "246     19.1  390.18   9.16  24.3  \n",
      "49      17.9  396.90  16.20  19.4  \n",
      "401     20.2  396.90  20.32   7.2  \n",
      "349     19.7  389.85   5.89  26.6  \n",
      "302     16.1  383.61   8.67  26.4  \n",
      "353     17.0  384.46   4.50  30.1  \n",
      "25      21.0  303.42  16.51  13.9  \n",
      "98      18.0  393.53   3.57  43.8  \n",
      "35      19.2  396.90   9.68  18.9  \n",
      "39      18.3  395.63   4.32  30.8  \n",
      "274     17.6  396.90   3.53  32.4  \n",
      "69      18.9  396.90   8.79  20.9  \n",
      "45      17.9  396.90  10.21  19.3  \n",
      "116     17.8  393.30  12.04  21.2  \n",
      "386     20.2  396.90  28.28  10.5  \n",
      "133     21.2  388.69  15.03  18.4  \n",
      "494     19.2  396.90  13.59  24.5  \n",
      "165     14.7  240.16   9.81  25.0  \n",
      "31      21.0  376.73  13.04  14.5  \n",
      "118     17.8  338.63  15.37  20.4  \n",
      "244     19.1  372.49  12.50  17.6  \n",
      "46      17.9  396.90  14.15  20.0  \n",
      "44      17.9  389.39   9.55  21.2  \n",
      "72      19.2  390.91   5.52  22.8  \n",
      "183     17.8  396.90   5.68  32.5  \n",
      "201     14.7  393.77   7.43  24.1  \n",
      "339     20.2  396.90   9.74  19.0  \n",
      "361     20.2  350.65  14.19  19.9  \n",
      "59      19.7  396.90   9.22  19.6  \n",
      "\n",
      "[405 rows x 14 columns]\n"
     ]
    }
   ],
   "source": [
    "from sklearn.model_selection import StratifiedShuffleSplit\n",
    "cv=StratifiedShuffleSplit(n_splits=2,test_size=0.2,random_state=0)\n",
    "print(cv)\n",
    "for train_index, test_index in cv.split(housing,housing['CHAS']):\n",
    "    strat_train_set = housing.loc[train_index]\n",
    "    strat_test_set = housing.loc[test_index]\n",
    "print( strat_test_set)\n",
    "print( strat_train_set)"
   ]
  },
  {
   "cell_type": "code",
   "execution_count": 16,
   "metadata": {},
   "outputs": [
    {
     "data": {
      "text/plain": [
       "0    377\n",
       "1     28\n",
       "Name: CHAS, dtype: int64"
      ]
     },
     "execution_count": 16,
     "metadata": {},
     "output_type": "execute_result"
    }
   ],
   "source": [
    "strat_train_set['CHAS'].value_counts()"
   ]
  },
  {
   "cell_type": "code",
   "execution_count": 17,
   "metadata": {
    "scrolled": true
   },
   "outputs": [
    {
     "data": {
      "text/plain": [
       "0    95\n",
       "1     7\n",
       "Name: CHAS, dtype: int64"
      ]
     },
     "execution_count": 17,
     "metadata": {},
     "output_type": "execute_result"
    }
   ],
   "source": [
    "strat_test_set['CHAS'].value_counts()#the ratio of 1 and 0 enteries in test and train set are same as we can see so we have succesfully seperated test and train sets into set proportions"
   ]
  },
  {
   "cell_type": "code",
   "execution_count": 18,
   "metadata": {},
   "outputs": [],
   "source": [
    "housing=strat_train_set.copy()"
   ]
  },
  {
   "cell_type": "markdown",
   "metadata": {},
   "source": [
    "## LOOKING FOR CORELATIONS"
   ]
  },
  {
   "cell_type": "code",
   "execution_count": 19,
   "metadata": {},
   "outputs": [],
   "source": [
    "corr_matrix=housing.corr()#pearson corelation co-efficent is calculated"
   ]
  },
  {
   "cell_type": "code",
   "execution_count": 20,
   "metadata": {},
   "outputs": [
    {
     "data": {
      "text/plain": [
       "MEDV       1.000000\n",
       "RM         0.700073\n",
       "ZN         0.337904\n",
       "B          0.333428\n",
       "DIS        0.235721\n",
       "CHAS       0.186162\n",
       "CRIM      -0.372776\n",
       "RAD       -0.378297\n",
       "AGE       -0.381475\n",
       "NOX       -0.422956\n",
       "INDUS     -0.465837\n",
       "TAX       -0.471629\n",
       "PTRATIO   -0.497589\n",
       "LSTAT     -0.736610\n",
       "Name: MEDV, dtype: float64"
      ]
     },
     "execution_count": 20,
     "metadata": {},
     "output_type": "execute_result"
    }
   ],
   "source": [
    "corr_matrix['MEDV'].sort_values(ascending=False)#this shows that the begining few units have strong co-relation"
   ]
  },
  {
   "cell_type": "code",
   "execution_count": 21,
   "metadata": {},
   "outputs": [
    {
     "data": {
      "text/plain": [
       "<matplotlib.axes._subplots.AxesSubplot at 0x208c0bbcba8>"
      ]
     },
     "execution_count": 21,
     "metadata": {},
     "output_type": "execute_result"
    },
    {
     "data": {
      "image/png": "[encoded data removed]",
      "text/plain": [
       "<Figure size 432x288 with 1 Axes>"
      ]
     },
     "metadata": {
      "needs_background": "light"
     },
     "output_type": "display_data"
    }
   ],
   "source": [
    "housing.plot(kind=\"scatter\",x='TAX',y=\"MEDV\",alpha=0.8)"
   ]
  },
  {
   "cell_type": "code",
   "execution_count": 22,
   "metadata": {},
   "outputs": [
    {
     "data": {
      "text/html": [
       "<div>\n",
       "<style scoped>\n",
       "    .dataframe tbody tr th:only-of-type {\n",
       "        vertical-align: middle;\n",
       "    }\n",
       "\n",
       "    .dataframe tbody tr th {\n",
       "        vertical-align: top;\n",
       "    }\n",
       "\n",
       "    .dataframe thead th {\n",
       "        text-align: right;\n",
       "    }\n",
       "</style>\n",
       "<table border=\"1\" class=\"dataframe\">\n",
       "  <thead>\n",
       "    <tr style=\"text-align: right;\">\n",
       "      <th></th>\n",
       "      <th>CRIM</th>\n",
       "      <th>ZN</th>\n",
       "      <th>INDUS</th>\n",
       "      <th>CHAS</th>\n",
       "      <th>NOX</th>\n",
       "      <th>RM</th>\n",
       "      <th>AGE</th>\n",
       "      <th>DIS</th>\n",
       "      <th>RAD</th>\n",
       "      <th>TAX</th>\n",
       "      <th>PTRATIO</th>\n",
       "      <th>B</th>\n",
       "      <th>LSTAT</th>\n",
       "      <th>MEDV</th>\n",
       "    </tr>\n",
       "  </thead>\n",
       "  <tbody>\n",
       "    <tr>\n",
       "      <th>58</th>\n",
       "      <td>0.15445</td>\n",
       "      <td>25.0</td>\n",
       "      <td>5.13</td>\n",
       "      <td>0</td>\n",
       "      <td>0.453</td>\n",
       "      <td>6.145</td>\n",
       "      <td>29.2</td>\n",
       "      <td>7.8148</td>\n",
       "      <td>8</td>\n",
       "      <td>284</td>\n",
       "      <td>19.7</td>\n",
       "      <td>390.68</td>\n",
       "      <td>6.86</td>\n",
       "      <td>23.3</td>\n",
       "    </tr>\n",
       "    <tr>\n",
       "      <th>93</th>\n",
       "      <td>0.02875</td>\n",
       "      <td>28.0</td>\n",
       "      <td>15.04</td>\n",
       "      <td>0</td>\n",
       "      <td>0.464</td>\n",
       "      <td>6.211</td>\n",
       "      <td>28.9</td>\n",
       "      <td>3.6659</td>\n",
       "      <td>4</td>\n",
       "      <td>270</td>\n",
       "      <td>18.2</td>\n",
       "      <td>396.33</td>\n",
       "      <td>6.21</td>\n",
       "      <td>25.0</td>\n",
       "    </tr>\n",
       "    <tr>\n",
       "      <th>330</th>\n",
       "      <td>0.04544</td>\n",
       "      <td>0.0</td>\n",
       "      <td>3.24</td>\n",
       "      <td>0</td>\n",
       "      <td>0.460</td>\n",
       "      <td>6.144</td>\n",
       "      <td>32.2</td>\n",
       "      <td>5.8736</td>\n",
       "      <td>4</td>\n",
       "      <td>430</td>\n",
       "      <td>16.9</td>\n",
       "      <td>368.57</td>\n",
       "      <td>9.09</td>\n",
       "      <td>19.8</td>\n",
       "    </tr>\n",
       "    <tr>\n",
       "      <th>318</th>\n",
       "      <td>0.40202</td>\n",
       "      <td>0.0</td>\n",
       "      <td>9.90</td>\n",
       "      <td>0</td>\n",
       "      <td>0.544</td>\n",
       "      <td>6.382</td>\n",
       "      <td>67.2</td>\n",
       "      <td>3.5325</td>\n",
       "      <td>4</td>\n",
       "      <td>304</td>\n",
       "      <td>18.4</td>\n",
       "      <td>395.21</td>\n",
       "      <td>10.36</td>\n",
       "      <td>23.1</td>\n",
       "    </tr>\n",
       "    <tr>\n",
       "      <th>27</th>\n",
       "      <td>0.95577</td>\n",
       "      <td>0.0</td>\n",
       "      <td>8.14</td>\n",
       "      <td>0</td>\n",
       "      <td>0.538</td>\n",
       "      <td>6.047</td>\n",
       "      <td>88.8</td>\n",
       "      <td>4.4534</td>\n",
       "      <td>4</td>\n",
       "      <td>307</td>\n",
       "      <td>21.0</td>\n",
       "      <td>306.38</td>\n",
       "      <td>17.28</td>\n",
       "      <td>14.8</td>\n",
       "    </tr>\n",
       "  </tbody>\n",
       "</table>\n",
       "</div>"
      ],
      "text/plain": [
       "        CRIM    ZN  INDUS  CHAS    NOX     RM   AGE     DIS  RAD  TAX  \\\n",
       "58   0.15445  25.0   5.13     0  0.453  6.145  29.2  7.8148    8  284   \n",
       "93   0.02875  28.0  15.04     0  0.464  6.211  28.9  3.6659    4  270   \n",
       "330  0.04544   0.0   3.24     0  0.460  6.144  32.2  5.8736    4  430   \n",
       "318  0.40202   0.0   9.90     0  0.544  6.382  67.2  3.5325    4  304   \n",
       "27   0.95577   0.0   8.14     0  0.538  6.047  88.8  4.4534    4  307   \n",
       "\n",
       "     PTRATIO       B  LSTAT  MEDV  \n",
       "58      19.7  390.68   6.86  23.3  \n",
       "93      18.2  396.33   6.21  25.0  \n",
       "330     16.9  368.57   9.09  19.8  \n",
       "318     18.4  395.21  10.36  23.1  \n",
       "27      21.0  306.38  17.28  14.8  "
      ]
     },
     "execution_count": 22,
     "metadata": {},
     "output_type": "execute_result"
    }
   ],
   "source": [
    "housing.head()"
   ]
  },
  {
   "cell_type": "code",
   "execution_count": 23,
   "metadata": {},
   "outputs": [
    {
     "data": {
      "text/plain": [
       "(405, 14)"
      ]
     },
     "execution_count": 23,
     "metadata": {},
     "output_type": "execute_result"
    }
   ],
   "source": [
    "housing.shape #to verify the dimension of our dataset once before we move on"
   ]
  },
  {
   "cell_type": "markdown",
   "metadata": {},
   "source": [
    "## Trying out attribute combinations"
   ]
  },
  {
   "cell_type": "code",
   "execution_count": 24,
   "metadata": {},
   "outputs": [],
   "source": [
    "housing[\"TAXRM\"]=housing['TAX']/housing['RM']"
   ]
  },
  {
   "cell_type": "code",
   "execution_count": 25,
   "metadata": {},
   "outputs": [
    {
     "data": {
      "text/plain": [
       "58      46.216436\n",
       "93      43.471261\n",
       "330     69.986979\n",
       "318     47.633971\n",
       "27      50.768976\n",
       "251     51.258155\n",
       "434    107.280928\n",
       "405    117.191624\n",
       "37      47.692308\n",
       "228     39.942753\n",
       "350     51.617874\n",
       "502     44.607843\n",
       "321     45.012547\n",
       "214     51.182557\n",
       "369     99.655843\n",
       "272     34.108290\n",
       "227     42.859137\n",
       "372    113.361702\n",
       "309     50.904220\n",
       "67      58.693433\n",
       "152     80.407023\n",
       "435    100.467642\n",
       "303     47.121169\n",
       "19      53.605727\n",
       "76      63.385889\n",
       "191     59.059208\n",
       "96      44.783385\n",
       "412    143.906655\n",
       "365    187.026116\n",
       "373    135.752140\n",
       "          ...    \n",
       "91      42.154567\n",
       "246     54.027505\n",
       "49      41.592288\n",
       "401    104.997635\n",
       "349     48.277850\n",
       "302     50.654349\n",
       "353     27.794293\n",
       "25      54.831220\n",
       "98      35.294118\n",
       "35      47.025114\n",
       "39      38.210766\n",
       "274     37.585084\n",
       "69      58.623619\n",
       "45      41.006688\n",
       "116     69.948187\n",
       "386    143.164230\n",
       "133     75.060117\n",
       "494     65.980425\n",
       "165     66.054745\n",
       "31      50.559947\n",
       "118     73.569482\n",
       "244     59.002324\n",
       "46      40.269616\n",
       "44      38.391827\n",
       "72      50.288541\n",
       "183     29.407283\n",
       "201     56.475170\n",
       "339     37.426901\n",
       "361    106.542953\n",
       "59      47.916315\n",
       "Name: TAXRM, Length: 405, dtype: float64"
      ]
     },
     "execution_count": 25,
     "metadata": {},
     "output_type": "execute_result"
    }
   ],
   "source": [
    "housing[\"TAXRM\"]"
   ]
  },
  {
   "cell_type": "code",
   "execution_count": 26,
   "metadata": {},
   "outputs": [
    {
     "data": {
      "text/plain": [
       "MEDV       1.000000\n",
       "RM         0.700073\n",
       "ZN         0.337904\n",
       "B          0.333428\n",
       "DIS        0.235721\n",
       "CHAS       0.186162\n",
       "CRIM      -0.372776\n",
       "RAD       -0.378297\n",
       "AGE       -0.381475\n",
       "NOX       -0.422956\n",
       "INDUS     -0.465837\n",
       "TAX       -0.471629\n",
       "PTRATIO   -0.497589\n",
       "TAXRM     -0.547143\n",
       "LSTAT     -0.736610\n",
       "Name: MEDV, dtype: float64"
      ]
     },
     "execution_count": 26,
     "metadata": {},
     "output_type": "execute_result"
    }
   ],
   "source": [
    "corr_matrix=housing.corr()#pearson corelation co-efficent is calculated\n",
    "corr_matrix['MEDV'].sort_values(ascending=False)#this shows that the begining few units have strong co-relation"
   ]
  },
  {
   "cell_type": "markdown",
   "metadata": {},
   "source": [
    "WE SEE THAT WE HAVE A STRONG NEGATIVE CO-RELATION CO-EFFICENT AND WE ALSO SEE THAT THIS CAN BE A VERY GOOD FACTOR TO AFFECT THE PRICE"
   ]
  },
  {
   "cell_type": "code",
   "execution_count": 27,
   "metadata": {},
   "outputs": [],
   "source": [
    "housing =strat_train_set.drop(\"MEDV\", axis=1)#removing the part that has to be predicted\n",
    "housing_labels =strat_train_set[\"MEDV\"].copy()#copying it to another variable"
   ]
  },
  {
   "cell_type": "markdown",
   "metadata": {},
   "source": [
    "## to take of missing attributes(in case of any)"
   ]
  },
  {
   "cell_type": "markdown",
   "metadata": {},
   "source": [
    "for missing datapoint we can take these actions\n",
    "    1.get rid of missing data value\n",
    "    2.get rid of the whole attribute\n",
    "    3.set the value to some value(0 or mean or median as per your choice of perfect fit)"
   ]
  },
  {
   "cell_type": "code",
   "execution_count": 28,
   "metadata": {},
   "outputs": [
    {
     "name": "stdout",
     "output_type": "stream",
     "text": [
      "6.193\n"
     ]
    }
   ],
   "source": [
    "#we use option 3 as I have explained above and the code for this is\n",
    "median=housing[\"RM\"].median()#computing median for value of missing RM as we have assumed\n",
    "print(median)"
   ]
  },
  {
   "cell_type": "code",
   "execution_count": 29,
   "metadata": {},
   "outputs": [],
   "source": [
    "#housing[\"RM\"].fillna(median)"
   ]
  },
  {
   "cell_type": "code",
   "execution_count": 30,
   "metadata": {},
   "outputs": [
    {
     "data": {
      "text/plain": [
       "(405, 13)"
      ]
     },
     "execution_count": 30,
     "metadata": {},
     "output_type": "execute_result"
    }
   ],
   "source": [
    "housing.shape"
   ]
  },
  {
   "cell_type": "code",
   "execution_count": 31,
   "metadata": {},
   "outputs": [
    {
     "data": {
      "text/plain": [
       "array([2.5356e-01, 0.0000e+00, 9.6900e+00, 0.0000e+00, 5.3800e-01,\n",
       "       6.1930e+00, 7.6500e+01, 3.2157e+00, 5.0000e+00, 3.3000e+02,\n",
       "       1.8900e+01, 3.9170e+02, 1.1410e+01])"
      ]
     },
     "execution_count": 31,
     "metadata": {},
     "output_type": "execute_result"
    }
   ],
   "source": [
    "from sklearn.impute import SimpleImputer#this does the same work of replacing but in an easier way\n",
    "imputer=SimpleImputer(strategy = 'median')\n",
    "imputer.fit(housing)\n",
    "imputer.statistics_#calculates median for every column in the dataset\n",
    "#our pipeline makes all thre missing values in the dataset in the all the columns "
   ]
  },
  {
   "cell_type": "code",
   "execution_count": 32,
   "metadata": {},
   "outputs": [],
   "source": [
    "X=imputer.transform(housing)#for tranforming"
   ]
  },
  {
   "cell_type": "code",
   "execution_count": 33,
   "metadata": {},
   "outputs": [],
   "source": [
    "#housing_tr = pd.DataFrame(X,columns=housing.colums)#creating a new dataset with all imputed or new values in the new dataset"
   ]
  },
  {
   "cell_type": "code",
   "execution_count": 34,
   "metadata": {},
   "outputs": [
    {
     "data": {
      "text/html": [
       "<div>\n",
       "<style scoped>\n",
       "    .dataframe tbody tr th:only-of-type {\n",
       "        vertical-align: middle;\n",
       "    }\n",
       "\n",
       "    .dataframe tbody tr th {\n",
       "        vertical-align: top;\n",
       "    }\n",
       "\n",
       "    .dataframe thead th {\n",
       "        text-align: right;\n",
       "    }\n",
       "</style>\n",
       "<table border=\"1\" class=\"dataframe\">\n",
       "  <thead>\n",
       "    <tr style=\"text-align: right;\">\n",
       "      <th></th>\n",
       "      <th>CRIM</th>\n",
       "      <th>ZN</th>\n",
       "      <th>INDUS</th>\n",
       "      <th>CHAS</th>\n",
       "      <th>NOX</th>\n",
       "      <th>RM</th>\n",
       "      <th>AGE</th>\n",
       "      <th>DIS</th>\n",
       "      <th>RAD</th>\n",
       "      <th>TAX</th>\n",
       "      <th>PTRATIO</th>\n",
       "      <th>B</th>\n",
       "      <th>LSTAT</th>\n",
       "    </tr>\n",
       "  </thead>\n",
       "  <tbody>\n",
       "    <tr>\n",
       "      <th>count</th>\n",
       "      <td>405.000000</td>\n",
       "      <td>405.000000</td>\n",
       "      <td>405.000000</td>\n",
       "      <td>405.000000</td>\n",
       "      <td>405.000000</td>\n",
       "      <td>405.000000</td>\n",
       "      <td>405.000000</td>\n",
       "      <td>405.000000</td>\n",
       "      <td>405.000000</td>\n",
       "      <td>405.000000</td>\n",
       "      <td>405.000000</td>\n",
       "      <td>405.000000</td>\n",
       "      <td>405.000000</td>\n",
       "    </tr>\n",
       "    <tr>\n",
       "      <th>mean</th>\n",
       "      <td>3.506740</td>\n",
       "      <td>10.859259</td>\n",
       "      <td>11.166963</td>\n",
       "      <td>0.069136</td>\n",
       "      <td>0.554540</td>\n",
       "      <td>6.273301</td>\n",
       "      <td>68.452593</td>\n",
       "      <td>3.778271</td>\n",
       "      <td>9.338272</td>\n",
       "      <td>403.943210</td>\n",
       "      <td>18.436296</td>\n",
       "      <td>356.171728</td>\n",
       "      <td>12.796469</td>\n",
       "    </tr>\n",
       "    <tr>\n",
       "      <th>std</th>\n",
       "      <td>8.845736</td>\n",
       "      <td>22.547309</td>\n",
       "      <td>6.853459</td>\n",
       "      <td>0.253999</td>\n",
       "      <td>0.115271</td>\n",
       "      <td>0.690546</td>\n",
       "      <td>27.994169</td>\n",
       "      <td>2.060509</td>\n",
       "      <td>8.578793</td>\n",
       "      <td>166.914172</td>\n",
       "      <td>2.136885</td>\n",
       "      <td>92.175041</td>\n",
       "      <td>7.128575</td>\n",
       "    </tr>\n",
       "    <tr>\n",
       "      <th>min</th>\n",
       "      <td>0.006320</td>\n",
       "      <td>0.000000</td>\n",
       "      <td>0.460000</td>\n",
       "      <td>0.000000</td>\n",
       "      <td>0.385000</td>\n",
       "      <td>3.561000</td>\n",
       "      <td>2.900000</td>\n",
       "      <td>1.129600</td>\n",
       "      <td>1.000000</td>\n",
       "      <td>187.000000</td>\n",
       "      <td>12.600000</td>\n",
       "      <td>0.320000</td>\n",
       "      <td>1.730000</td>\n",
       "    </tr>\n",
       "    <tr>\n",
       "      <th>25%</th>\n",
       "      <td>0.082210</td>\n",
       "      <td>0.000000</td>\n",
       "      <td>5.190000</td>\n",
       "      <td>0.000000</td>\n",
       "      <td>0.449000</td>\n",
       "      <td>5.884000</td>\n",
       "      <td>45.400000</td>\n",
       "      <td>2.110700</td>\n",
       "      <td>4.000000</td>\n",
       "      <td>277.000000</td>\n",
       "      <td>17.300000</td>\n",
       "      <td>375.330000</td>\n",
       "      <td>7.340000</td>\n",
       "    </tr>\n",
       "    <tr>\n",
       "      <th>50%</th>\n",
       "      <td>0.253560</td>\n",
       "      <td>0.000000</td>\n",
       "      <td>9.690000</td>\n",
       "      <td>0.000000</td>\n",
       "      <td>0.538000</td>\n",
       "      <td>6.193000</td>\n",
       "      <td>76.500000</td>\n",
       "      <td>3.215700</td>\n",
       "      <td>5.000000</td>\n",
       "      <td>330.000000</td>\n",
       "      <td>18.900000</td>\n",
       "      <td>391.700000</td>\n",
       "      <td>11.410000</td>\n",
       "    </tr>\n",
       "    <tr>\n",
       "      <th>75%</th>\n",
       "      <td>3.474280</td>\n",
       "      <td>12.500000</td>\n",
       "      <td>18.100000</td>\n",
       "      <td>0.000000</td>\n",
       "      <td>0.624000</td>\n",
       "      <td>6.625000</td>\n",
       "      <td>94.000000</td>\n",
       "      <td>5.116700</td>\n",
       "      <td>8.000000</td>\n",
       "      <td>666.000000</td>\n",
       "      <td>20.200000</td>\n",
       "      <td>396.280000</td>\n",
       "      <td>17.110000</td>\n",
       "    </tr>\n",
       "    <tr>\n",
       "      <th>max</th>\n",
       "      <td>88.976200</td>\n",
       "      <td>100.000000</td>\n",
       "      <td>27.740000</td>\n",
       "      <td>1.000000</td>\n",
       "      <td>0.871000</td>\n",
       "      <td>8.780000</td>\n",
       "      <td>100.000000</td>\n",
       "      <td>12.126500</td>\n",
       "      <td>24.000000</td>\n",
       "      <td>711.000000</td>\n",
       "      <td>22.000000</td>\n",
       "      <td>396.900000</td>\n",
       "      <td>37.970000</td>\n",
       "    </tr>\n",
       "  </tbody>\n",
       "</table>\n",
       "</div>"
      ],
      "text/plain": [
       "             CRIM          ZN       INDUS        CHAS         NOX          RM  \\\n",
       "count  405.000000  405.000000  405.000000  405.000000  405.000000  405.000000   \n",
       "mean     3.506740   10.859259   11.166963    0.069136    0.554540    6.273301   \n",
       "std      8.845736   22.547309    6.853459    0.253999    0.115271    0.690546   \n",
       "min      0.006320    0.000000    0.460000    0.000000    0.385000    3.561000   \n",
       "25%      0.082210    0.000000    5.190000    0.000000    0.449000    5.884000   \n",
       "50%      0.253560    0.000000    9.690000    0.000000    0.538000    6.193000   \n",
       "75%      3.474280   12.500000   18.100000    0.000000    0.624000    6.625000   \n",
       "max     88.976200  100.000000   27.740000    1.000000    0.871000    8.780000   \n",
       "\n",
       "              AGE         DIS         RAD         TAX     PTRATIO           B  \\\n",
       "count  405.000000  405.000000  405.000000  405.000000  405.000000  405.000000   \n",
       "mean    68.452593    3.778271    9.338272  403.943210   18.436296  356.171728   \n",
       "std     27.994169    2.060509    8.578793  166.914172    2.136885   92.175041   \n",
       "min      2.900000    1.129600    1.000000  187.000000   12.600000    0.320000   \n",
       "25%     45.400000    2.110700    4.000000  277.000000   17.300000  375.330000   \n",
       "50%     76.500000    3.215700    5.000000  330.000000   18.900000  391.700000   \n",
       "75%     94.000000    5.116700    8.000000  666.000000   20.200000  396.280000   \n",
       "max    100.000000   12.126500   24.000000  711.000000   22.000000  396.900000   \n",
       "\n",
       "            LSTAT  \n",
       "count  405.000000  \n",
       "mean    12.796469  \n",
       "std      7.128575  \n",
       "min      1.730000  \n",
       "25%      7.340000  \n",
       "50%     11.410000  \n",
       "75%     17.110000  \n",
       "max     37.970000  "
      ]
     },
     "execution_count": 34,
     "metadata": {},
     "output_type": "execute_result"
    }
   ],
   "source": [
    "housing.describe()#this gives the data set with only train set as we have done the initialisatro"
   ]
  },
  {
   "cell_type": "code",
   "execution_count": 35,
   "metadata": {},
   "outputs": [],
   "source": [
    "housing_tr=pd.DataFrame(X, columns=housing.columns)#cretaed a new dataframe with all missing values filled with the median "
   ]
  },
  {
   "cell_type": "code",
   "execution_count": 36,
   "metadata": {},
   "outputs": [
    {
     "data": {
      "text/html": [
       "<div>\n",
       "<style scoped>\n",
       "    .dataframe tbody tr th:only-of-type {\n",
       "        vertical-align: middle;\n",
       "    }\n",
       "\n",
       "    .dataframe tbody tr th {\n",
       "        vertical-align: top;\n",
       "    }\n",
       "\n",
       "    .dataframe thead th {\n",
       "        text-align: right;\n",
       "    }\n",
       "</style>\n",
       "<table border=\"1\" class=\"dataframe\">\n",
       "  <thead>\n",
       "    <tr style=\"text-align: right;\">\n",
       "      <th></th>\n",
       "      <th>CRIM</th>\n",
       "      <th>ZN</th>\n",
       "      <th>INDUS</th>\n",
       "      <th>CHAS</th>\n",
       "      <th>NOX</th>\n",
       "      <th>RM</th>\n",
       "      <th>AGE</th>\n",
       "      <th>DIS</th>\n",
       "      <th>RAD</th>\n",
       "      <th>TAX</th>\n",
       "      <th>PTRATIO</th>\n",
       "      <th>B</th>\n",
       "      <th>LSTAT</th>\n",
       "    </tr>\n",
       "  </thead>\n",
       "  <tbody>\n",
       "    <tr>\n",
       "      <th>count</th>\n",
       "      <td>405.000000</td>\n",
       "      <td>405.000000</td>\n",
       "      <td>405.000000</td>\n",
       "      <td>405.000000</td>\n",
       "      <td>405.000000</td>\n",
       "      <td>405.000000</td>\n",
       "      <td>405.000000</td>\n",
       "      <td>405.000000</td>\n",
       "      <td>405.000000</td>\n",
       "      <td>405.000000</td>\n",
       "      <td>405.000000</td>\n",
       "      <td>405.000000</td>\n",
       "      <td>405.000000</td>\n",
       "    </tr>\n",
       "    <tr>\n",
       "      <th>mean</th>\n",
       "      <td>3.506740</td>\n",
       "      <td>10.859259</td>\n",
       "      <td>11.166963</td>\n",
       "      <td>0.069136</td>\n",
       "      <td>0.554540</td>\n",
       "      <td>6.273301</td>\n",
       "      <td>68.452593</td>\n",
       "      <td>3.778271</td>\n",
       "      <td>9.338272</td>\n",
       "      <td>403.943210</td>\n",
       "      <td>18.436296</td>\n",
       "      <td>356.171728</td>\n",
       "      <td>12.796469</td>\n",
       "    </tr>\n",
       "    <tr>\n",
       "      <th>std</th>\n",
       "      <td>8.845736</td>\n",
       "      <td>22.547309</td>\n",
       "      <td>6.853459</td>\n",
       "      <td>0.253999</td>\n",
       "      <td>0.115271</td>\n",
       "      <td>0.690546</td>\n",
       "      <td>27.994169</td>\n",
       "      <td>2.060509</td>\n",
       "      <td>8.578793</td>\n",
       "      <td>166.914172</td>\n",
       "      <td>2.136885</td>\n",
       "      <td>92.175041</td>\n",
       "      <td>7.128575</td>\n",
       "    </tr>\n",
       "    <tr>\n",
       "      <th>min</th>\n",
       "      <td>0.006320</td>\n",
       "      <td>0.000000</td>\n",
       "      <td>0.460000</td>\n",
       "      <td>0.000000</td>\n",
       "      <td>0.385000</td>\n",
       "      <td>3.561000</td>\n",
       "      <td>2.900000</td>\n",
       "      <td>1.129600</td>\n",
       "      <td>1.000000</td>\n",
       "      <td>187.000000</td>\n",
       "      <td>12.600000</td>\n",
       "      <td>0.320000</td>\n",
       "      <td>1.730000</td>\n",
       "    </tr>\n",
       "    <tr>\n",
       "      <th>25%</th>\n",
       "      <td>0.082210</td>\n",
       "      <td>0.000000</td>\n",
       "      <td>5.190000</td>\n",
       "      <td>0.000000</td>\n",
       "      <td>0.449000</td>\n",
       "      <td>5.884000</td>\n",
       "      <td>45.400000</td>\n",
       "      <td>2.110700</td>\n",
       "      <td>4.000000</td>\n",
       "      <td>277.000000</td>\n",
       "      <td>17.300000</td>\n",
       "      <td>375.330000</td>\n",
       "      <td>7.340000</td>\n",
       "    </tr>\n",
       "    <tr>\n",
       "      <th>50%</th>\n",
       "      <td>0.253560</td>\n",
       "      <td>0.000000</td>\n",
       "      <td>9.690000</td>\n",
       "      <td>0.000000</td>\n",
       "      <td>0.538000</td>\n",
       "      <td>6.193000</td>\n",
       "      <td>76.500000</td>\n",
       "      <td>3.215700</td>\n",
       "      <td>5.000000</td>\n",
       "      <td>330.000000</td>\n",
       "      <td>18.900000</td>\n",
       "      <td>391.700000</td>\n",
       "      <td>11.410000</td>\n",
       "    </tr>\n",
       "    <tr>\n",
       "      <th>75%</th>\n",
       "      <td>3.474280</td>\n",
       "      <td>12.500000</td>\n",
       "      <td>18.100000</td>\n",
       "      <td>0.000000</td>\n",
       "      <td>0.624000</td>\n",
       "      <td>6.625000</td>\n",
       "      <td>94.000000</td>\n",
       "      <td>5.116700</td>\n",
       "      <td>8.000000</td>\n",
       "      <td>666.000000</td>\n",
       "      <td>20.200000</td>\n",
       "      <td>396.280000</td>\n",
       "      <td>17.110000</td>\n",
       "    </tr>\n",
       "    <tr>\n",
       "      <th>max</th>\n",
       "      <td>88.976200</td>\n",
       "      <td>100.000000</td>\n",
       "      <td>27.740000</td>\n",
       "      <td>1.000000</td>\n",
       "      <td>0.871000</td>\n",
       "      <td>8.780000</td>\n",
       "      <td>100.000000</td>\n",
       "      <td>12.126500</td>\n",
       "      <td>24.000000</td>\n",
       "      <td>711.000000</td>\n",
       "      <td>22.000000</td>\n",
       "      <td>396.900000</td>\n",
       "      <td>37.970000</td>\n",
       "    </tr>\n",
       "  </tbody>\n",
       "</table>\n",
       "</div>"
      ],
      "text/plain": [
       "             CRIM          ZN       INDUS        CHAS         NOX          RM  \\\n",
       "count  405.000000  405.000000  405.000000  405.000000  405.000000  405.000000   \n",
       "mean     3.506740   10.859259   11.166963    0.069136    0.554540    6.273301   \n",
       "std      8.845736   22.547309    6.853459    0.253999    0.115271    0.690546   \n",
       "min      0.006320    0.000000    0.460000    0.000000    0.385000    3.561000   \n",
       "25%      0.082210    0.000000    5.190000    0.000000    0.449000    5.884000   \n",
       "50%      0.253560    0.000000    9.690000    0.000000    0.538000    6.193000   \n",
       "75%      3.474280   12.500000   18.100000    0.000000    0.624000    6.625000   \n",
       "max     88.976200  100.000000   27.740000    1.000000    0.871000    8.780000   \n",
       "\n",
       "              AGE         DIS         RAD         TAX     PTRATIO           B  \\\n",
       "count  405.000000  405.000000  405.000000  405.000000  405.000000  405.000000   \n",
       "mean    68.452593    3.778271    9.338272  403.943210   18.436296  356.171728   \n",
       "std     27.994169    2.060509    8.578793  166.914172    2.136885   92.175041   \n",
       "min      2.900000    1.129600    1.000000  187.000000   12.600000    0.320000   \n",
       "25%     45.400000    2.110700    4.000000  277.000000   17.300000  375.330000   \n",
       "50%     76.500000    3.215700    5.000000  330.000000   18.900000  391.700000   \n",
       "75%     94.000000    5.116700    8.000000  666.000000   20.200000  396.280000   \n",
       "max    100.000000   12.126500   24.000000  711.000000   22.000000  396.900000   \n",
       "\n",
       "            LSTAT  \n",
       "count  405.000000  \n",
       "mean    12.796469  \n",
       "std      7.128575  \n",
       "min      1.730000  \n",
       "25%      7.340000  \n",
       "50%     11.410000  \n",
       "75%     17.110000  \n",
       "max     37.970000  "
      ]
     },
     "execution_count": 36,
     "metadata": {},
     "output_type": "execute_result"
    }
   ],
   "source": [
    "housing_tr.describe()"
   ]
  },
  {
   "cell_type": "markdown",
   "metadata": {},
   "source": [
    "## SCI-KIT learn design"
   ]
  },
  {
   "cell_type": "markdown",
   "metadata": {},
   "source": [
    "we basiclly have 3 types of object under this \n"
   ]
  },
  {
   "cell_type": "markdown",
   "metadata": {},
   "source": [
    "1. Estimators-it estimates some parameter based on a datset\n",
    "2. Transformers-transforms methhod takes input and returns output based on the learnings from fit() it also has a convinece function called fit_transform\n",
    "3.predictor- linear regression model is an exmample of predictors\n",
    "            fit and predict are the two common function\n",
    "            it also gives sone score function which evalutes how accurate and good the predictions are"
   ]
  },
  {
   "cell_type": "markdown",
   "metadata": {},
   "source": [
    "## Creating a pipeline"
   ]
  },
  {
   "cell_type": "code",
   "execution_count": 37,
   "metadata": {},
   "outputs": [],
   "source": [
    "from sklearn.pipeline import Pipeline\n",
    "from sklearn.preprocessing import StandardScaler\n",
    "my_pipeline=Pipeline ([\n",
    "    ('imputer',SimpleImputer(strategy=\"median\")),\n",
    "    ('std_scaler',StandardScaler()),\n",
    "])"
   ]
  },
  {
   "cell_type": "code",
   "execution_count": 38,
   "metadata": {},
   "outputs": [],
   "source": [
    "housing_num_tr=my_pipeline.fit_transform(housing)##fit transform from simple imputer is done in this command"
   ]
  },
  {
   "cell_type": "code",
   "execution_count": 39,
   "metadata": {},
   "outputs": [
    {
     "data": {
      "text/plain": [
       "(405, 13)"
      ]
     },
     "execution_count": 39,
     "metadata": {},
     "output_type": "execute_result"
    }
   ],
   "source": [
    "housing_num_tr.shape"
   ]
  },
  {
   "cell_type": "code",
   "execution_count": 40,
   "metadata": {},
   "outputs": [],
   "source": [
    "housing_num_tr=my_pipeline.fit_transform(housing)"
   ]
  },
  {
   "cell_type": "code",
   "execution_count": 41,
   "metadata": {},
   "outputs": [
    {
     "data": {
      "text/plain": [
       "array([[-0.37944111,  0.6279344 , -0.8819532 , ...,  0.59210796,\n",
       "         0.37484066, -0.83380088],\n",
       "       [-0.39366892,  0.76115254,  0.5658205 , ..., -0.11071655,\n",
       "         0.4362129 , -0.92509598],\n",
       "       [-0.3917798 , -0.48221678, -1.15806745, ..., -0.71983113,\n",
       "         0.13467427, -0.52058844],\n",
       "       ...,\n",
       "       [-0.39070112, -0.48221678, -0.87318767, ...,  0.82638279,\n",
       "         0.44240443, -0.42929334],\n",
       "       [ 0.03736363, -0.48221678,  1.01286263, ...,  0.82638279,\n",
       "        -0.0599789 ,  0.19572699],\n",
       "       [-0.38523297,  0.6279344 , -0.8819532 , ...,  0.59210796,\n",
       "         0.44240443, -0.50232942]])"
      ]
     },
     "execution_count": 41,
     "metadata": {},
     "output_type": "execute_result"
    }
   ],
   "source": [
    "housing_num_tr#it is a numpy array as the predictors that we just discussed above use numpy array so we create this for that purpose"
   ]
  },
  {
   "cell_type": "markdown",
   "metadata": {},
   "source": [
    "we did simple imputing and we used the orgnal set because we don't actually have a missing value in our dataset"
   ]
  },
  {
   "cell_type": "markdown",
   "metadata": {},
   "source": [
    "## Selcting a desired model for our estate model"
   ]
  },
  {
   "cell_type": "markdown",
   "metadata": {},
   "source": [
    "we train and evaluate the model in differnent ways"
   ]
  },
  {
   "cell_type": "code",
   "execution_count": 42,
   "metadata": {},
   "outputs": [
    {
     "name": "stderr",
     "output_type": "stream",
     "text": [
      "C:\\Users\\sat48\\Anaconda3\\lib\\site-packages\\sklearn\\ensemble\\forest.py:245: FutureWarning: The default value of n_estimators will change from 10 in version 0.20 to 100 in 0.22.\n",
      "  \"10 in version 0.20 to 100 in 0.22.\", FutureWarning)\n"
     ]
    },
    {
     "data": {
      "text/plain": [
       "RandomForestRegressor(bootstrap=True, criterion='mse', max_depth=None,\n",
       "                      max_features='auto', max_leaf_nodes=None,\n",
       "                      min_impurity_decrease=0.0, min_impurity_split=None,\n",
       "                      min_samples_leaf=1, min_samples_split=2,\n",
       "                      min_weight_fraction_leaf=0.0, n_estimators=10,\n",
       "                      n_jobs=None, oob_score=False, random_state=None,\n",
       "                      verbose=0, warm_start=False)"
      ]
     },
     "execution_count": 42,
     "metadata": {},
     "output_type": "execute_result"
    }
   ],
   "source": [
    "from sklearn.linear_model import LinearRegression\n",
    "from sklearn.tree import DecisionTreeRegressor\n",
    "from sklearn.ensemble import RandomForestRegressor\n",
    "#model=DecisionTreeRegressor()\n",
    "#model=LinearRegression()\n",
    "model=RandomForestRegressor()\n",
    "model.fit(housing_num_tr,housing_labels)"
   ]
  },
  {
   "cell_type": "code",
   "execution_count": 43,
   "metadata": {},
   "outputs": [],
   "source": [
    "some_data = housing.iloc[:5]"
   ]
  },
  {
   "cell_type": "code",
   "execution_count": 44,
   "metadata": {},
   "outputs": [],
   "source": [
    "some_labels = housing_labels.iloc[:5]"
   ]
  },
  {
   "cell_type": "code",
   "execution_count": 45,
   "metadata": {},
   "outputs": [],
   "source": [
    "prepared_data=my_pipeline.transform(some_data)"
   ]
  },
  {
   "cell_type": "code",
   "execution_count": 46,
   "metadata": {},
   "outputs": [
    {
     "data": {
      "text/plain": [
       "array([24.75, 25.37, 21.34, 23.2 , 15.04])"
      ]
     },
     "execution_count": 46,
     "metadata": {},
     "output_type": "execute_result"
    }
   ],
   "source": [
    "#taking predictions\n",
    "model.predict(prepared_data)"
   ]
  },
  {
   "cell_type": "code",
   "execution_count": 47,
   "metadata": {},
   "outputs": [
    {
     "data": {
      "text/plain": [
       "58     23.3\n",
       "93     25.0\n",
       "330    19.8\n",
       "318    23.1\n",
       "27     14.8\n",
       "Name: MEDV, dtype: float64"
      ]
     },
     "execution_count": 47,
     "metadata": {},
     "output_type": "execute_result"
    }
   ],
   "source": [
    "some_labels"
   ]
  },
  {
   "cell_type": "code",
   "execution_count": 48,
   "metadata": {},
   "outputs": [],
   "source": [
    "#predictions ARE OKAYISH in case of a linear regression"
   ]
  },
  {
   "cell_type": "code",
   "execution_count": 49,
   "metadata": {},
   "outputs": [
    {
     "data": {
      "text/plain": [
       "['CRIM',\n",
       " 'ZN',\n",
       " 'INDUS',\n",
       " 'CHAS',\n",
       " 'NOX',\n",
       " 'RM',\n",
       " 'AGE',\n",
       " 'DIS',\n",
       " 'RAD',\n",
       " 'TAX',\n",
       " 'PTRATIO',\n",
       " 'B',\n",
       " 'LSTAT']"
      ]
     },
     "execution_count": 49,
     "metadata": {},
     "output_type": "execute_result"
    }
   ],
   "source": [
    "list(some_data)"
   ]
  },
  {
   "cell_type": "code",
   "execution_count": 50,
   "metadata": {},
   "outputs": [
    {
     "data": {
      "text/plain": [
       "[23.3, 25.0, 19.8, 23.1, 14.8]"
      ]
     },
     "execution_count": 50,
     "metadata": {},
     "output_type": "execute_result"
    }
   ],
   "source": [
    "list(some_labels)"
   ]
  },
  {
   "cell_type": "code",
   "execution_count": 51,
   "metadata": {},
   "outputs": [],
   "source": [
    "def print_scores(scores):\n",
    "    print(\"Scores are:\",scores)\n",
    "    print(\"Mean:\",scores.mean())\n",
    "    print(\"Standard deviation:\",scores.std())"
   ]
  },
  {
   "cell_type": "code",
   "execution_count": 52,
   "metadata": {},
   "outputs": [
    {
     "name": "stdout",
     "output_type": "stream",
     "text": [
      "Scores are: [[-0.37944111  0.6279344  -0.8819532  -0.27252625 -0.88196696 -0.18602665\n",
      "  -1.4039046   1.96141946 -0.15619061 -0.71948092  0.59210796  0.37484066\n",
      "  -0.83380088]\n",
      " [-0.39366892  0.76115254  0.5658205  -0.27252625 -0.78642199 -0.09033187\n",
      "  -1.41463438 -0.05460283 -0.62303339 -0.80346011 -0.11071655  0.4362129\n",
      "  -0.92509598]\n",
      " [-0.3917798  -0.48221678 -1.15806745 -0.27252625 -0.82116562 -0.18747657\n",
      "  -1.29660688  1.0181568  -0.62303339  0.156302   -0.71983113  0.13467427\n",
      "  -0.52058844]\n",
      " [-0.351419   -0.48221678 -0.18509341 -0.27252625 -0.09154946  0.15760462\n",
      "  -0.04480011 -0.11942419 -0.62303339 -0.59951066 -0.01700662  0.42404707\n",
      "  -0.34221185]\n",
      " [-0.28874078 -0.48221678 -0.44221568 -0.27252625 -0.1436649  -0.32811891\n",
      "   0.7277435   0.32805705 -0.62303339 -0.58151512  1.20122253 -0.5408548\n",
      "   0.62972988]]\n",
      "Mean: -0.2215035067358424\n",
      "Standard deviation: 0.6155532361524305\n"
     ]
    }
   ],
   "source": [
    "print_scores(prepared_data)"
   ]
  },
  {
   "cell_type": "markdown",
   "metadata": {},
   "source": [
    "## Evaluating the model"
   ]
  },
  {
   "cell_type": "code",
   "execution_count": 53,
   "metadata": {},
   "outputs": [],
   "source": [
    "from sklearn.metrics import mean_squared_error\n",
    "housing_predictions=model.predict(housing_num_tr)\n",
    "mse=mean_squared_error(housing_labels,housing_predictions)\n",
    "rmse=np.sqrt(mse)"
   ]
  },
  {
   "cell_type": "code",
   "execution_count": 54,
   "metadata": {},
   "outputs": [
    {
     "data": {
      "text/plain": [
       "1.8248427160493825"
      ]
     },
     "execution_count": 54,
     "metadata": {},
     "output_type": "execute_result"
    }
   ],
   "source": [
    "mse #error margin is huge cant be considered as this can be disastours"
   ]
  },
  {
   "cell_type": "code",
   "execution_count": 55,
   "metadata": {},
   "outputs": [],
   "source": [
    "mse1=mean_squared_error(housing_labels,housing_predictions)\n",
    "rmse1=np.sqrt(mse)"
   ]
  },
  {
   "cell_type": "markdown",
   "metadata": {},
   "source": [
    "this model has clearly learnt and this seems to be an excellent method,but this is a huge problem as this has read all the \\\n",
    "data and nothing is acutually left to test with proper secrecy,so this is wrong method and not at all suitable"
   ]
  },
  {
   "cell_type": "markdown",
   "metadata": {},
   "source": [
    "## Cross Validation"
   ]
  },
  {
   "cell_type": "code",
   "execution_count": 56,
   "metadata": {},
   "outputs": [],
   "source": [
    "#1 2 3 4 5 6 7 8 9 10\n",
    "#for expalination purpose"
   ]
  },
  {
   "cell_type": "code",
   "execution_count": 57,
   "metadata": {},
   "outputs": [],
   "source": [
    "from sklearn.model_selection import cross_val_score\n",
    "scores=cross_val_score(model, housing_num_tr,housing_labels, scoring=\"neg_mean_squared_error\", cv=10) \n",
    "rmse_scores=np.sqrt(-scores)#as scores is -ve and sq of - is not poosible"
   ]
  },
  {
   "cell_type": "code",
   "execution_count": 58,
   "metadata": {},
   "outputs": [
    {
     "data": {
      "text/plain": [
       "array([6.16549703, 3.2090231 , 3.41740309, 4.13184185, 2.64704575,\n",
       "       3.05778801, 3.61964466, 2.77378126, 4.12127771, 2.66388861])"
      ]
     },
     "execution_count": 58,
     "metadata": {},
     "output_type": "execute_result"
    }
   ],
   "source": [
    "rmse_scores"
   ]
  },
  {
   "cell_type": "markdown",
   "metadata": {},
   "source": [
    "this error is very less comapred to what linear model suggests and this works very well and error margin is less"
   ]
  },
  {
   "cell_type": "code",
   "execution_count": 59,
   "metadata": {},
   "outputs": [],
   "source": [
    "def print_scores(scores):\n",
    "    print(\"Scores are:\",scores)\n",
    "    print(\"Mean:\",scores.mean())\n",
    "    print(\"Standard deviation:\",scores.std())"
   ]
  },
  {
   "cell_type": "code",
   "execution_count": 60,
   "metadata": {
    "scrolled": false
   },
   "outputs": [
    {
     "name": "stdout",
     "output_type": "stream",
     "text": [
      "Scores are: [6.16549703 3.2090231  3.41740309 4.13184185 2.64704575 3.05778801\n",
      " 3.61964466 2.77378126 4.12127771 2.66388861]\n",
      "Mean: 3.580719108694885\n",
      "Standard deviation: 1.0040065621411203\n"
     ]
    }
   ],
   "source": [
    "print_scores(rmse_scores)#for Decision tree regressor"
   ]
  },
  {
   "cell_type": "code",
   "execution_count": 61,
   "metadata": {},
   "outputs": [
    {
     "name": "stderr",
     "output_type": "stream",
     "text": [
      "C:\\Users\\sat48\\Anaconda3\\lib\\site-packages\\sklearn\\ensemble\\forest.py:245: FutureWarning: The default value of n_estimators will change from 10 in version 0.20 to 100 in 0.22.\n",
      "  \"10 in version 0.20 to 100 in 0.22.\", FutureWarning)\n"
     ]
    },
    {
     "data": {
      "text/plain": [
       "RandomForestRegressor(bootstrap=True, criterion='mse', max_depth=None,\n",
       "                      max_features='auto', max_leaf_nodes=None,\n",
       "                      min_impurity_decrease=0.0, min_impurity_split=None,\n",
       "                      min_samples_leaf=1, min_samples_split=2,\n",
       "                      min_weight_fraction_leaf=0.0, n_estimators=10,\n",
       "                      n_jobs=None, oob_score=False, random_state=None,\n",
       "                      verbose=0, warm_start=False)"
      ]
     },
     "execution_count": 61,
     "metadata": {},
     "output_type": "execute_result"
    }
   ],
   "source": [
    "#trying another model\n",
    "from sklearn.ensemble import RandomForestRegressor\n",
    "model=RandomForestRegressor()\n",
    "model.fit(housing_num_tr,housing_labels)"
   ]
  },
  {
   "cell_type": "markdown",
   "metadata": {},
   "source": [
    "## Saving the model"
   ]
  },
  {
   "cell_type": "code",
   "execution_count": 63,
   "metadata": {},
   "outputs": [
    {
     "data": {
      "text/plain": [
       "['Estate.joblib']"
      ]
     },
     "execution_count": 63,
     "metadata": {},
     "output_type": "execute_result"
    }
   ],
   "source": [
    "from joblib import dump,load\n",
    "dump(model,'Estate.joblib')"
   ]
  },
  {
   "cell_type": "markdown",
   "metadata": {},
   "source": [
    "## Testing the model on test data "
   ]
  },
  {
   "cell_type": "markdown",
   "metadata": {},
   "source": [
    "we use the test data to check the data"
   ]
  },
  {
   "cell_type": "code",
   "execution_count": 66,
   "metadata": {},
   "outputs": [
    {
     "name": "stdout",
     "output_type": "stream",
     "text": [
      "[19.01 15.31 21.08 28.71 12.77 26.83 20.45 32.13 26.48 16.33 40.65 32.94\n",
      " 21.73 18.97 23.6  20.52 44.68  9.86 19.45 18.26 40.16 16.72 24.62 20.03\n",
      " 21.01 18.81  9.68 18.93 19.39  9.43 33.06 14.69 20.91 19.52 14.56 12.38\n",
      " 26.7  20.67 13.32 18.65 32.1  22.37 15.3  39.57 20.52 38.46 25.41 40.23\n",
      " 30.41 23.11 18.24 23.23 22.05 20.97 22.96 12.87 29.07 21.28 25.21 23.76\n",
      " 17.67 20.27  8.88 22.19 15.5  21.42 19.63 20.89 15.16 16.32 22.15 23.9\n",
      " 32.98 45.77 27.   19.47 18.29 13.08 29.27 20.33 13.53 33.65 14.31 18.8\n",
      " 43.98 36.91  7.02 19.43 34.84 45.9  23.05 33.51 24.52 14.81 21.24 14.94\n",
      " 20.47 44.19 44.56 26.97 20.39 29.27] [18.7, 17.2, 18.9, 29.1, 13.9, 24.1, 19.4, 23.6, 30.1, 16.3, 44.0, 29.0, 24.0, 17.7, 24.2, 23.1, 50.0, 12.1, 19.6, 19.5, 39.8, 11.9, 22.2, 23.2, 10.9, 17.8, 8.8, 15.0, 18.5, 8.7, 31.7, 16.7, 20.6, 19.3, 13.3, 10.9, 26.2, 19.5, 14.5, 19.1, 32.0, 22.2, 15.4, 33.4, 18.6, 50.0, 23.8, 50.0, 32.2, 20.8, 19.6, 24.8, 20.3, 22.7, 22.9, 12.7, 22.8, 20.6, 23.1, 23.4, 19.6, 21.2, 7.4, 23.1, 13.8, 20.7, 18.7, 20.6, 10.2, 14.3, 21.7, 20.7, 33.0, 44.8, 24.5, 20.1, 19.5, 11.9, 23.9, 19.2, 9.6, 37.2, 13.1, 17.3, 42.3, 36.4, 5.0, 20.8, 34.6, 50.0, 22.5, 32.7, 22.1, 13.4, 21.2, 17.8, 19.9, 48.8, 46.0, 27.0, 21.8, 29.8]\n"
     ]
    }
   ],
   "source": [
    "X_test=strat_test_set.drop(\"MEDV\", axis=1)\n",
    "Y_test=strat_test_set[\"MEDV\"].copy()\n",
    "X_test_prepared = my_pipeline.transform(X_test)\n",
    "final_predictions=model.predict(X_test_prepared)\n",
    "final_mse=mean_squared_error(Y_test,final_predictions)\n",
    "final_rmse=np.sqrt(final_mse)\n",
    "print(final_predictions,list(Y_test))"
   ]
  },
  {
   "cell_type": "code",
   "execution_count": 67,
   "metadata": {},
   "outputs": [
    {
     "data": {
      "text/plain": [
       "2.9394080369766864"
      ]
     },
     "execution_count": 67,
     "metadata": {},
     "output_type": "execute_result"
    }
   ],
   "source": [
    "final_rmse"
   ]
  },
  {
   "cell_type": "code",
   "execution_count": 70,
   "metadata": {},
   "outputs": [
    {
     "data": {
      "text/plain": [
       "array([[-0.37944111,  0.6279344 , -0.8819532 , -0.27252625, -0.88196696,\n",
       "        -0.18602665, -1.4039046 ,  1.96141946, -0.15619061, -0.71948092,\n",
       "         0.59210796,  0.37484066, -0.83380088],\n",
       "       [-0.39366892,  0.76115254,  0.5658205 , -0.27252625, -0.78642199,\n",
       "        -0.09033187, -1.41463438, -0.05460283, -0.62303339, -0.80346011,\n",
       "        -0.11071655,  0.4362129 , -0.92509598],\n",
       "       [-0.3917798 , -0.48221678, -1.15806745, -0.27252625, -0.82116562,\n",
       "        -0.18747657, -1.29660688,  1.0181568 , -0.62303339,  0.156302  ,\n",
       "        -0.71983113,  0.13467427, -0.52058844],\n",
       "       [-0.351419  , -0.48221678, -0.18509341, -0.27252625, -0.09154946,\n",
       "         0.15760462, -0.04480011, -0.11942419, -0.62303339, -0.59951066,\n",
       "        -0.01700662,  0.42404707, -0.34221185],\n",
       "       [-0.28874078, -0.48221678, -0.44221568, -0.27252625, -0.1436649 ,\n",
       "        -0.32811891,  0.7277435 ,  0.32805705, -0.62303339, -0.58151512,\n",
       "         1.20122253, -0.5408548 ,  0.62972988]])"
      ]
     },
     "execution_count": 70,
     "metadata": {},
     "output_type": "execute_result"
    }
   ],
   "source": [
    "prepared_data"
   ]
  },
  {
   "cell_type": "code",
   "execution_count": null,
   "metadata": {},
   "outputs": [],
   "source": []
  }
 ],
 "metadata": {
  "kernelspec": {
   "display_name": "Python 3",
   "language": "python",
   "name": "python3"
  },
  "language_info": {
   "codemirror_mode": {
    "name": "ipython",
    "version": 3
   },
   "file_extension": ".py",
   "mimetype": "text/x-python",
   "name": "python",
   "nbconvert_exporter": "python",
   "pygments_lexer": "ipython3",
   "version": "3.7.3"
  }
 },
 "nbformat": 4,
 "nbformat_minor": 2
}
