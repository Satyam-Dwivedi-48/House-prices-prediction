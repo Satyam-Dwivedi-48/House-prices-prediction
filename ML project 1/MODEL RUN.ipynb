{
 "cells": [
  {
   "cell_type": "code",
   "execution_count": 1,
   "metadata": {},
   "outputs": [],
   "source": [
    "from joblib import dump,load\n",
    "import numpy as np\n",
    "model=load('Estate.joblib')"
   ]
  },
  {
   "cell_type": "code",
   "execution_count": 2,
   "metadata": {},
   "outputs": [
    {
     "data": {
      "text/plain": [
       "array([23.53])"
      ]
     },
     "execution_count": 2,
     "metadata": {},
     "output_type": "execute_result"
    }
   ],
   "source": [
    "input=np.array([[-0.37944111,  0.6279344 , -0.8819532 , -0.27252625, -0.88196696,\n",
    "       -0.18602665, -1.4039046 ,  1.96141946, -0.15619061, -0.71948092,\n",
    "        0.59210796,  0.37484066, -0.83380088]])\n",
    "model.predict(input)"
   ]
  },
  {
   "cell_type": "code",
   "execution_count": 3,
   "metadata": {},
   "outputs": [
    {
     "data": {
      "text/plain": [
       "array([24.54])"
      ]
     },
     "execution_count": 3,
     "metadata": {},
     "output_type": "execute_result"
    }
   ],
   "source": [
    "input1=np.array([[-0.39366892,  0.76115254,  0.5658205 , -0.27252625, -0.78642199,\n",
    "        -0.09033187, -1.41463438, -0.05460283, -0.62303339, -0.80346011,\n",
    "        -0.11071655,  0.4362129 , -0.92509598]])\n",
    "model.predict(input1)"
   ]
  },
  {
   "cell_type": "code",
   "execution_count": null,
   "metadata": {},
   "outputs": [],
   "source": []
  }
 ],
 "metadata": {
  "kernelspec": {
   "display_name": "Python 3",
   "language": "python",
   "name": "python3"
  },
  "language_info": {
   "codemirror_mode": {
    "name": "ipython",
    "version": 3
   },
   "file_extension": ".py",
   "mimetype": "text/x-python",
   "name": "python",
   "nbconvert_exporter": "python",
   "pygments_lexer": "ipython3",
   "version": "3.7.3"
  }
 },
 "nbformat": 4,
 "nbformat_minor": 2
}
